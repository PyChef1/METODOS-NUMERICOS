{
  "nbformat": 4,
  "nbformat_minor": 0,
  "metadata": {
    "colab": {
      "provenance": [],
      "authorship_tag": "ABX9TyORic70+JqzIsjg05RNJT8D",
      "include_colab_link": true
    },
    "kernelspec": {
      "name": "python3",
      "display_name": "Python 3"
    },
    "language_info": {
      "name": "python"
    }
  },
  "cells": [
    {
      "cell_type": "markdown",
      "metadata": {
        "id": "view-in-github",
        "colab_type": "text"
      },
      "source": [
        "<a href=\"https://colab.research.google.com/github/PyChef1/METODOS-NUMERICOS/blob/main/MetodoSecante.ipynb\" target=\"_parent\"><img src=\"https://colab.research.google.com/assets/colab-badge.svg\" alt=\"Open In Colab\"/></a>"
      ]
    },
    {
      "cell_type": "code",
      "execution_count": 13,
      "metadata": {
        "id": "nudWnoMKi7TS"
      },
      "outputs": [],
      "source": [
        "import numpy as np\n",
        "from tabulate import tabulate\n",
        "#f: funcion a implementar el algoritmo, p0: aproximacion inicial, p1 aproximacion inicial, tol: tolerancia para la convergencia, n0 numero maximo de iteraciones\n",
        "def secante(f, p_0, p_1, tol, n0):\n",
        "    i = 2\n",
        "    q_0 = f(p_0)\n",
        "    q_1 = f(p_1)\n",
        "    datos = []\n",
        "\n",
        "    while i <= n0:\n",
        "        p = p_1 - (q_1 * (p_1 - p_0)) / (q_1 - q_0) #Calcula p_i\n",
        "        error = abs(p - p_1)\n",
        "        datos.append([i - 1, p_0, p_1, p, f(p), error])\n",
        "\n",
        "        if error < tol:\n",
        "            print(tabulate(datos, headers=[\"Iteracion\", \"p_i\", \"p_{i+1}\", \"p\", \"f(p)\", \"Error\"], tablefmt=\"grid\"))\n",
        "            return p # Procedimiento exitoso\n",
        "\n",
        "        i += 1\n",
        "        p_0 = p_1\n",
        "        q_0 = q_1\n",
        "        p_1 = p\n",
        "        q_1 = f(p)\n",
        "\n",
        "    print(tabulate(datos, headers=[\"Iteracion\", \"p_i\", \"p_{i+1}\", \"p\", \"f(p)\", \"Error\"], tablefmt=\"grid\"))\n",
        "    return f\"El metodo fallo despues de {n0} iteraciones, n0=\", n0"
      ]
    },
    {
      "cell_type": "code",
      "source": [
        "def f(x):\n",
        "  return np.cos(x)-x"
      ],
      "metadata": {
        "id": "gOU6zAjGkvgn"
      },
      "execution_count": 14,
      "outputs": []
    },
    {
      "cell_type": "code",
      "source": [
        "resultado = secante(f, 0.5, np.pi/4, 1e-5, 100)\n",
        "print(resultado)"
      ],
      "metadata": {
        "colab": {
          "base_uri": "https://localhost:8080/"
        },
        "id": "hR7ivMmyk3tF",
        "outputId": "9b89278f-e5f3-4fdd-f0c4-94c14ce345a2"
      },
      "execution_count": 15,
      "outputs": [
        {
          "output_type": "stream",
          "name": "stdout",
          "text": [
            "+-------------+----------+-----------+----------+--------------+-------------+\n",
            "|   Iteracion |      p_i |   p_{i+1} |        p |         f(p) |       Error |\n",
            "+=============+==========+===========+==========+==============+=============+\n",
            "|           1 | 0.5      |  0.785398 | 0.736384 |  0.00451772  | 0.049014    |\n",
            "+-------------+----------+-----------+----------+--------------+-------------+\n",
            "|           2 | 0.785398 |  0.736384 | 0.739058 |  4.51772e-05 | 0.002674    |\n",
            "+-------------+----------+-----------+----------+--------------+-------------+\n",
            "|           3 | 0.736384 |  0.739058 | 0.739085 | -2.69822e-08 | 2.70101e-05 |\n",
            "+-------------+----------+-----------+----------+--------------+-------------+\n",
            "|           4 | 0.739058 |  0.739085 | 0.739085 |  1.60871e-13 | 1.61222e-08 |\n",
            "+-------------+----------+-----------+----------+--------------+-------------+\n",
            "0.7390851332150645\n"
          ]
        }
      ]
    }
  ]
}