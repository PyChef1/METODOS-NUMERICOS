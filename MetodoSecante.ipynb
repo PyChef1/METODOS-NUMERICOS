{
  "nbformat": 4,
  "nbformat_minor": 0,
  "metadata": {
    "colab": {
      "provenance": [],
      "authorship_tag": "ABX9TyNBKxohDswwQ6zB8+xcYRda",
      "include_colab_link": true
    },
    "kernelspec": {
      "name": "python3",
      "display_name": "Python 3"
    },
    "language_info": {
      "name": "python"
    }
  },
  "cells": [
    {
      "cell_type": "markdown",
      "metadata": {
        "id": "view-in-github",
        "colab_type": "text"
      },
      "source": [
        "<a href=\"https://colab.research.google.com/github/PyChef1/METODOS-NUMERICOS/blob/main/MetodoSecante.ipynb\" target=\"_parent\"><img src=\"https://colab.research.google.com/assets/colab-badge.svg\" alt=\"Open In Colab\"/></a>"
      ]
    },
    {
      "cell_type": "markdown",
      "source": [
        "#Metodo de la Secante\n",
        "\n",
        "El método de Newton es una técnica en extremo poderosa, pero tiene una debilidad importante: la necesidad de conocer el valor de la derivada de $f$ en cada aproximación. Con frecuencia, $f'(x)$ es mucho más difícil y necesita más operaciones aritméticas para calcular $f(x)$.\n",
        "\n",
        "Para evitar el problema de la evaluación de la derivada en el método de Newton, presentamos una ligera variación. Por definición,\n",
        "$$\n",
        "f'(p_{n-1}) = \\lim_{x \\to p_{n-1}} \\frac{f(x) - f(p_{n-1})}{x - p_{n-1}}.\n",
        "$$\n",
        "\n",
        "Si $p_{n-2}$ está cerca de $p_{n-1}$, entonces\n",
        "\n",
        "$$\n",
        "f'(p_{n-1}) \\approx \\frac{f(p_{n-2}) - f(p_{n-1})}{p_{n-2} - p_{n-1}}\n",
        "= \\frac{f(p_{n-1}) - f(p_{n-2})}{p_{n-1} - p_{n-2}}.\n",
        "$$\n",
        "\n",
        "Usando esta aproximación para $f'(p_{n-1})$ en la fórmula de Newton obtenemos\n",
        "\n",
        "$$\n",
        "p_n = p_{n-1} - \\frac{f(p_{n-1})(p_{n-1} - p_{n-2})}{f(p_{n-1}) - f(p_{n-2})}.\n",
        "$$\n",
        "\n",
        "![image.png](data:image/png;base64,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)"
      ],
      "metadata": {
        "id": "pGz2X_qOs-PG"
      }
    },
    {
      "cell_type": "code",
      "execution_count": null,
      "metadata": {
        "id": "nudWnoMKi7TS"
      },
      "outputs": [],
      "source": [
        "import numpy as np\n",
        "from tabulate import tabulate\n",
        "#f: funcion a implementar el algoritmo, p0: aproximacion inicial, p1 aproximacion inicial, tol: tolerancia para la convergencia, n0 numero maximo de iteraciones\n",
        "def secante(f, p_0, p_1, tol, n0):\n",
        "    i = 2\n",
        "    q_0 = f(p_0)\n",
        "    q_1 = f(p_1)\n",
        "    datos = []\n",
        "\n",
        "    while i <= n0:\n",
        "        p = p_1 - (q_1 * (p_1 - p_0)) / (q_1 - q_0) #Calcula p_i\n",
        "        error = abs(p - p_1)\n",
        "        datos.append([i - 1, p_0, p_1, p, f(p), error])\n",
        "\n",
        "        if error < tol:\n",
        "            print(tabulate(datos, headers=[\"Iteracion\", \"p_i\", \"p_{i+1}\", \"p\", \"f(p)\", \"Error\"], tablefmt=\"grid\"))\n",
        "            return p # Procedimiento exitoso\n",
        "\n",
        "        i += 1\n",
        "        p_0 = p_1\n",
        "        q_0 = q_1\n",
        "        p_1 = p\n",
        "        q_1 = f(p)\n",
        "\n",
        "    print(tabulate(datos, headers=[\"Iteracion\", \"p_i\", \"p_{i+1}\", \"p\", \"f(p)\", \"Error\"], tablefmt=\"grid\"))\n",
        "    return f\"El metodo fallo despues de {n0} iteraciones, n0=\", n0"
      ]
    },
    {
      "cell_type": "code",
      "source": [
        "def f(x):\n",
        "  return np.cos(x)-x"
      ],
      "metadata": {
        "id": "gOU6zAjGkvgn"
      },
      "execution_count": null,
      "outputs": []
    },
    {
      "cell_type": "code",
      "source": [
        "resultado = secante(f, 0.5, np.pi/4, 1e-5, 100)\n",
        "print(resultado)"
      ],
      "metadata": {
        "colab": {
          "base_uri": "https://localhost:8080/"
        },
        "id": "hR7ivMmyk3tF",
        "outputId": "9b89278f-e5f3-4fdd-f0c4-94c14ce345a2"
      },
      "execution_count": null,
      "outputs": [
        {
          "output_type": "stream",
          "name": "stdout",
          "text": [
            "+-------------+----------+-----------+----------+--------------+-------------+\n",
            "|   Iteracion |      p_i |   p_{i+1} |        p |         f(p) |       Error |\n",
            "+=============+==========+===========+==========+==============+=============+\n",
            "|           1 | 0.5      |  0.785398 | 0.736384 |  0.00451772  | 0.049014    |\n",
            "+-------------+----------+-----------+----------+--------------+-------------+\n",
            "|           2 | 0.785398 |  0.736384 | 0.739058 |  4.51772e-05 | 0.002674    |\n",
            "+-------------+----------+-----------+----------+--------------+-------------+\n",
            "|           3 | 0.736384 |  0.739058 | 0.739085 | -2.69822e-08 | 2.70101e-05 |\n",
            "+-------------+----------+-----------+----------+--------------+-------------+\n",
            "|           4 | 0.739058 |  0.739085 | 0.739085 |  1.60871e-13 | 1.61222e-08 |\n",
            "+-------------+----------+-----------+----------+--------------+-------------+\n",
            "0.7390851332150645\n"
          ]
        }
      ]
    }
  ]
}