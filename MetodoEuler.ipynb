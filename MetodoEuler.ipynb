{
  "nbformat": 4,
  "nbformat_minor": 0,
  "metadata": {
    "colab": {
      "provenance": [],
      "authorship_tag": "ABX9TyN/iJFtoksWizG5DVr8fFRf",
      "include_colab_link": true
    },
    "kernelspec": {
      "name": "python3",
      "display_name": "Python 3"
    },
    "language_info": {
      "name": "python"
    }
  },
  "cells": [
    {
      "cell_type": "markdown",
      "metadata": {
        "id": "view-in-github",
        "colab_type": "text"
      },
      "source": [
        "<a href=\"https://colab.research.google.com/github/PyChef1/METODOS-NUMERICOS/blob/main/MetodoEuler.ipynb\" target=\"_parent\"><img src=\"https://colab.research.google.com/assets/colab-badge.svg\" alt=\"Open In Colab\"/></a>"
      ]
    },
    {
      "cell_type": "markdown",
      "source": [
        "# Metodo de Euler\n",
        "El método aproxima la solución en puntos discretos $ t_n = t_0 + nh $, donde $ h $ es el tamaño del paso. La aproximación se calcula iterativamente mediante:\n",
        "$$\n",
        "y_{n+1} = y_n + h f(t_n, y_n)\n",
        "$$\n",
        "*  $y_n $ es la aproximación de $ y(t_n) $,\n",
        "*  $h$ es el paso de integración (fijo o variable).\n",
        "\n",
        "## Interpretacion Geometrica\n",
        "El método sigue la tangente a la curva solución en cada punto $ (t_n, y_n) $, avanzando linealmente con pendiente $ f(t_n, y_n) $. Esto corresponde a la expansión en serie de Taylor truncada en el término lineal.\n",
        "\n",
        "## Deduccion del Metodo\n",
        "El método de Euler se deriva formalmente a partir de la **expansión en serie de Taylor** de la solución exacta $ y(t) $ alrededor del punto $ t_n $. Consideremos el PVI:\n",
        "\n",
        "$$\n",
        "\\frac{dy}{dt} = f(t, y), \\quad y(t_0) = y_0.\n",
        "$$\n",
        "\n",
        "## Expansión de Taylor\n",
        "Supongamos que la solución $ y(t) $ es suficientemente suave en un intervalo que contiene $ t_n $. La serie de Taylor de $ y(t_{n+1}) $ alrededor de $ t_n $ es:\n",
        "\n",
        "$$\n",
        "y(t_{n+1}) = y(t_n) + h y'(t_n) + \\frac{h^2}{2} y''(\\xi_n), \\quad \\xi_n \\in (t_n, t_{n+1}),\n",
        "$$\n",
        "\n",
        "donde $ h = t_{n+1} - t_n $ es el tamaño del paso. Dado que $ y'(t_n) = f(t_n, y(t_n)) $ por la EDO, truncamos la serie después del término lineal:\n",
        "\n",
        "$$\n",
        "y(t_{n+1}) \\approx y(t_n) + h f(t_n, y(t_n)).\n",
        "$$\n"
      ],
      "metadata": {
        "id": "SCT7gEvzI38F"
      }
    },
    {
      "cell_type": "code",
      "execution_count": 6,
      "metadata": {
        "colab": {
          "base_uri": "https://localhost:8080/"
        },
        "id": "grzU6y8vEyU8",
        "outputId": "9d2fce14-cd84-490e-d4a4-cd7bccf75d29"
      },
      "outputs": [
        {
          "output_type": "stream",
          "name": "stdout",
          "text": [
            "|   t_i |     w_i |   y(t_i) |   |y_i - w_i| |\n",
            "|-------|---------|----------|---------------|\n",
            "|   0   | 0.5     | 0.5      |     0         |\n",
            "|   0.2 | 0.8     | 0.829299 |     0.0292986 |\n",
            "|   0.4 | 1.152   | 1.21409  |     0.0620877 |\n",
            "|   0.6 | 1.5504  | 1.64894  |     0.0985406 |\n",
            "|   0.8 | 1.98848 | 2.12723  |     0.138749  |\n",
            "|   1   | 2.45818 | 2.64086  |     0.182683  |\n",
            "|   1.2 | 2.94981 | 3.17994  |     0.23013   |\n",
            "|   1.4 | 3.45177 | 3.7324   |     0.280627  |\n",
            "|   1.6 | 3.95013 | 4.28348  |     0.333356  |\n",
            "|   1.8 | 4.42815 | 4.81518  |     0.387022  |\n",
            "|   2   | 4.86578 | 5.30547  |     0.439687  |\n"
          ]
        }
      ],
      "source": [
        "from tabulate import tabulate\n",
        "import numpy as np\n",
        "\n",
        "def y_exacto(t):\n",
        "  return (t+1)**2 - 0.5*np.exp(t)\n",
        "\n",
        "def f(t,y):\n",
        "  return y - t**2 +1\n",
        "\n",
        "def metodo_euler(a, b, N, alpha, f):\n",
        "    h = (b - a) / N\n",
        "    t = a\n",
        "    w = alpha\n",
        "\n",
        "    table = []\n",
        "    for i in range(N + 1):\n",
        "        y = y_exacto(t)\n",
        "        error = abs(y - w)\n",
        "        table.append([round(t, 1), round(w, 7), round(y, 7), round(error, 7)])\n",
        "\n",
        "        w = w + h * f(t, w)\n",
        "        t = a + (i + 1) * h\n",
        "\n",
        "    headers = [\"t_i\", \"w_i\", \"y(t_i)\", \"|y_i - w_i|\"]\n",
        "    print(tabulate(table, headers=headers, tablefmt=\"github\"))\n",
        "\n",
        "metodo_euler(a=0, b=2, N=10, alpha=0.5, f=f)\n"
      ]
    }
  ]
}