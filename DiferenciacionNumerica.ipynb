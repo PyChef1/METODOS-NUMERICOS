{
  "nbformat": 4,
  "nbformat_minor": 0,
  "metadata": {
    "colab": {
      "provenance": [],
      "authorship_tag": "ABX9TyOWAt/9jGkrUdR1ISd+8Jrm",
      "include_colab_link": true
    },
    "kernelspec": {
      "name": "python3",
      "display_name": "Python 3"
    },
    "language_info": {
      "name": "python"
    }
  },
  "cells": [
    {
      "cell_type": "markdown",
      "metadata": {
        "id": "view-in-github",
        "colab_type": "text"
      },
      "source": [
        "<a href=\"https://colab.research.google.com/github/PyChef1/METODOS-NUMERICOS/blob/main/DiferenciacionNumerica.ipynb\" target=\"_parent\"><img src=\"https://colab.research.google.com/assets/colab-badge.svg\" alt=\"Open In Colab\"/></a>"
      ]
    },
    {
      "cell_type": "markdown",
      "source": [
        "# Diferenciacion Numerica\n",
        "\n",
        "##Fórmula de diferencias hacia adelante/atrás\n",
        "La derivada de una función $ f $ en $ x_0 $ se aproxima como:\n",
        "$$\n",
        "f'(x_0) \\approx \\frac{f(x_0 + h) - f(x_0)}{h},\n",
        "$$\n",
        "con un error de truncamiento dado por:\n",
        "$$\n",
        "f'(x_0) = \\frac{f(x_0 + h) - f(x_0)}{h} - \\frac{h}{2}f''(\\xi), \\quad \\xi \\in [x_0, x_0 + h].\n",
        "$$\n",
        "Esta es la **fórmula de diferencias hacia adelante** si $ h > 0 $ o **hacia atrás** si $ h < 0 $.\n",
        "\n",
        "##Fórmulas de tres puntos\n",
        "\n",
        "###Fórmula del extremo de tres puntos\n",
        "$$\n",
        "f'(x_0) = \\frac{1}{2h} \\left[ -3f(x_0) + 4f(x_0 + h) - f(x_0 + 2h) \\right] + \\frac{h^2}{3}f'''(\\xi_0),\n",
        "$$\n",
        "donde $$( \\xi_0 \\in [x_0, x_0 + 2h] )$$.\n",
        "\n",
        "###Fórmula del punto medio de tres puntos\n",
        "$$\n",
        "f'(x_0) = \\frac{1}{2h} \\left[ f(x_0 + h) - f(x_0 - h) \\right] - \\frac{h^2}{6}f'''(\\xi_1),\n",
        "$$\n",
        "donde $$( \\xi_1 \\in [x_0 - h, x_0 + h])$$.\n",
        "\n",
        "##Fórmulas de cinco puntos\n",
        "\n",
        "###Fórmula del punto medio de cinco puntos\n",
        "$$\n",
        "f'(x_0) = \\frac{1}{12h} \\left[ f(x_0 - 2h) - 8f(x_0 - h) + 8f(x_0 + h) - f(x_0 + 2h) \\right] + \\frac{h^4}{30}f^{(5)}(\\xi),\n",
        "$$\n",
        "con $$( \\xi \\in [x_0 - 2h, x_0 + 2h] )$$.\n",
        "\n",
        "###Fórmula del extremo de cinco puntos\n",
        "$$\n",
        "f'(x_0) = \\frac{1}{12h} \\left[ -25f(x_0) + 48f(x_0 + h) - 36f(x_0 + 2h) + 16f(x_0 + 3h) - 3f(x_0 + 4h) \\right] + \\frac{h^4}{5}f^{(5)}(\\xi),\n",
        "$$\n",
        "donde $(\\xi \\in [x_0, x_0 + 4h])$.\n"
      ],
      "metadata": {
        "id": "PxFdvdAkGpvU"
      }
    },
    {
      "cell_type": "code",
      "execution_count": 38,
      "metadata": {
        "id": "zWXO__UZ-DMl"
      },
      "outputs": [],
      "source": [
        "import sympy as sp\n",
        "import numpy as np\n",
        "\n",
        "def tres_puntos_extremo(f, x0, h):\n",
        "  x = sp.symbols(\"x\")\n",
        "  f = sp.lambdify(x, f, \"sympy\")\n",
        "  aproximacion_derivada = (1/(2*h))*(-3*f(x0) + 4*f(x0+h) - f(x0+2*h))\n",
        "  return sp.simplify(aproximacion_derivada)\n",
        "\n",
        "def tres_puntos_medio(f, x0, h):\n",
        "  x = sp.symbols(\"x\")\n",
        "  f = sp.lambdify(x, f, \"sympy\")\n",
        "  aproximacion_derivada = (1/(2*h))*(f(x0+h) - f(x0-h))\n",
        "  return sp.simplify(aproximacion_derivada)\n",
        "\n",
        "def cinco_puntos_extremo(f, x0, h):\n",
        "  x = sp.symbols(\"x\")\n",
        "  f = sp.lambdify(x, f, \"sympy\")\n",
        "  aproximacion_derivada = (1/(12*h))*(-25*f(x0) + 48*f(x0+h) - 36*f(x0+2*h) + 16*f(x0+3*h) - 3*f(x0+4*h))\n",
        "  return sp.simplify(aproximacion_derivada)\n",
        "\n",
        "def cinco_puntos_medio(f, x0, h):\n",
        "  x = sp.symbols(\"x\")\n",
        "  f = sp.lambdify(x, f, \"sympy\")\n",
        "  aproximacion_derivada = (1/(12*h))*(f(x0-2*h)-8*f(x0-h)+8*f(x0+h)-f(x0+2*h))\n",
        "  return sp.simplify(aproximacion_derivada)\n",
        "\n",
        "def punto_medio_segunda_deriv(f,x0, h):\n",
        "  x = sp.symbols(\"x\")\n",
        "  f = sp.lambdify(x, f, \"sympy\")\n",
        "  aproximacion_derivada = (1/(h**2))*(f(x0+h)-2*f(x0)+f(x0-h))\n",
        "  return sp.simplify(aproximacion_derivada)\n",
        "  return sp.simplify(aproximacion_derivada)"
      ]
    },
    {
      "cell_type": "code",
      "source": [
        "x=sp.symbols(\"x\")\n",
        "f_expresion = x*sp.exp(x)\n",
        "resultado_1 = tres_puntos_extremo(f_expresion, 2, 0.1)\n",
        "resultado_2 = tres_puntos_medio(f_expresion, 2, 0.1)\n",
        "resultado_3 = cinco_puntos_extremo(f_expresion, 2, 0.1)\n",
        "resultado_4 = cinco_puntos_medio(f_expresion, 2, 0.1)\n",
        "resultado_5 = punto_medio_segunda_deriv(f_expresion, 2, 0.1)\n",
        "print(\"Usando la expresion de tres puntos extremos: \",resultado_1,\"=\",resultado_1.evalf())\n",
        "print(\"Usando la expresion de tres puntos medios: \", resultado_2,\"=\",resultado_2.evalf())\n",
        "print(\"Usando la expresion de cinco puntos extremos:\", resultado_3,\"=\",resultado_3.evalf())\n",
        "print(\"Usando la expresion de cinco puntos medios:\", resultado_4,\"=\",resultado_4.evalf())\n",
        "print(\"Usando la expresion de punto medio de la segunda derivada:\", resultado_5,\"=\",resultado_5.evalf())"
      ],
      "metadata": {
        "colab": {
          "base_uri": "https://localhost:8080/"
        },
        "id": "ZRYl5CVwAmFv",
        "outputId": "c30426c3-5845-423f-d83c-4fd19bc2ecc4"
      },
      "execution_count": 39,
      "outputs": [
        {
          "output_type": "stream",
          "name": "stdout",
          "text": [
            "Usando la expresion de tres puntos extremos:  243.703987834066 - 30.0*exp(2) = 22.0323048661464\n",
            "Usando la expresion de tres puntos medios:  22.2287868803073 = 22.2287868803073\n",
            "Usando la expresion de cinco puntos extremos: 330.043252023499 - 41.6666666666667*exp(2) = 22.1659145680551\n",
            "Usando la expresion de cinco puntos medios: 22.1669956213999 = 22.1669956213999\n",
            "Usando la expresion de punto medio de la segunda derivada: 2985.21562567227 - 400.0*exp(2) = 29.5931861000073\n"
          ]
        }
      ]
    }
  ]
}