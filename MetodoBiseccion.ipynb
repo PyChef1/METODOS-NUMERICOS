{
  "nbformat": 4,
  "nbformat_minor": 0,
  "metadata": {
    "colab": {
      "provenance": [],
      "authorship_tag": "ABX9TyNOBlZ6GvZK0fcrNC5oMP1q",
      "include_colab_link": true
    },
    "kernelspec": {
      "name": "python3",
      "display_name": "Python 3"
    },
    "language_info": {
      "name": "python"
    }
  },
  "cells": [
    {
      "cell_type": "markdown",
      "metadata": {
        "id": "view-in-github",
        "colab_type": "text"
      },
      "source": [
        "<a href=\"https://colab.research.google.com/github/PyChef1/METODOS-NUMERICOS/blob/main/MetodoBiseccion.ipynb\" target=\"_parent\"><img src=\"https://colab.research.google.com/assets/colab-badge.svg\" alt=\"Open In Colab\"/></a>"
      ]
    },
    {
      "cell_type": "markdown",
      "source": [
        "#Metodo de la Biseccion.\n",
        "##Introduccion\n",
        "Este metodo se utiliza para aproximar raices de una funcion, y esta basada en el teorema del valor medio. El teorema del valor medio dice que si $f$ es una funcion definida en el intervalo $[a,b]$ con $f(a),\\ f(b)$ de signos opuestos entonces existe $p\\in(a,b)$ tal que $$f(p)=0$$ En otras palabras una raiz."
      ],
      "metadata": {
        "id": "8inFNaJkZ88t"
      }
    },
    {
      "cell_type": "markdown",
      "source": [
        "Este metodo consiste en realizar \"bisecciones\" repetidamente de los subintervalos de $[a,b]$ y, en cada paso localizar la mitad que contiene $p$.\n",
        "\n",
        "\n"
      ],
      "metadata": {
        "id": "rBfDQ0wbcP14"
      }
    },
    {
      "cell_type": "markdown",
      "source": [
        "*   Establece $a_1=a$ y $b_1=b$, entonces el punto medio $p_1$ sera $$p_1=\\frac{a_1+b_1}{2}$$\n",
        "*   Si $f(p_1)=0$ entonces $p=p_1$ y terminamos\n",
        "\n",
        "*   Si $f(p_1)\\neq0$ entonces $f(p_1)$ tiene el mismo signo ya sea $f(p_1)$ o $f(p_2)$\n",
        "\n",
        "\n",
        "   -   Si $f(p_1)$ y $f(a_1)$ tienen el mismo signo, $p\\in(p_1,b_1)$. Sea $a_2=p_1$ y $b_2=b_1$\n",
        "   -   Si $f(p_1)$ y $f(a_1)$ tienen signos opuestos, $p\\in(a_1,p_1)$. Sea $a_2=a_1$ y $b_2=p_1$\n",
        "\n",
        "Y volvemos a aplicar el metodo en el intervalo $[a_2,b_2]$\n"
      ],
      "metadata": {
        "id": "fOumZA2JdzWl"
      }
    },
    {
      "cell_type": "markdown",
      "source": [
        "Veremos una implementacion en python:"
      ],
      "metadata": {
        "id": "Y01_Fcj5irDg"
      }
    },
    {
      "cell_type": "code",
      "execution_count": 28,
      "metadata": {
        "colab": {
          "base_uri": "https://localhost:8080/"
        },
        "id": "qXbK17ISAwO9",
        "outputId": "fcad5512-59be-4980-9bfd-89cdc82099cd"
      },
      "outputs": [
        {
          "output_type": "stream",
          "name": "stdout",
          "text": [
            "  n         a         b         p       f(p)\n",
            "---  --------  --------  --------  ---------\n",
            "  1  1.000000  2.000000  1.500000   2.375000\n",
            "  2  1.000000  1.500000  1.250000  -1.796875\n",
            "  3  1.250000  1.500000  1.375000   0.162109\n",
            "  4  1.250000  1.375000  1.312500  -0.848389\n",
            "  5  1.312500  1.375000  1.343750  -0.350983\n",
            "  6  1.343750  1.375000  1.359375  -0.096409\n",
            "  7  1.359375  1.375000  1.367188   0.032356\n",
            "  8  1.359375  1.367188  1.363281  -0.032150\n",
            "  9  1.363281  1.367188  1.365234   0.000072\n",
            " 10  1.363281  1.365234  1.364258  -0.016047\n",
            " 11  1.364258  1.365234  1.364746  -0.007989\n",
            " 12  1.364746  1.365234  1.364990  -0.003959\n",
            " 13  1.364990  1.365234  1.365112  -0.001944\n",
            " 14  1.365112  1.365234  1.365173  -0.000936\n",
            "La raiz aproximada es: 1.36517333984375\n"
          ]
        }
      ],
      "source": [
        "#Importamos las librerias necesarias\n",
        "import numpy as np\n",
        "import math\n",
        "from tabulate import tabulate\n",
        "\n",
        "\"\"\"Definimos la funcion principal la cual toma como parametros a, b, tol, n_0 y func.\n",
        "    a: Cota inferior del intervalo\n",
        "    b: Cota superior del intervalo\n",
        "    tol: Tolerancia (error aceptable ) para la raiz\n",
        "    n_0: Numero maximo de iteraciones\n",
        "    func: Funcion a la cual se le calcularan las raices\n",
        "    \"\"\"\n",
        "def biseccion(a, b, tol, n_0, func):\n",
        "    # Paso 1: Registra el valor de la funcion evaluada en a\n",
        "    FA = func(a)\n",
        "    # Inicia una lista para guardar los resultados de las evaluaciones en la cota inferior de los intervalos a usar\n",
        "    resultados = []\n",
        "\n",
        "    # Paso 2: Itera usando el metodo de biseccion\n",
        "    for i in range(1, n_0 + 1):\n",
        "        # Paso 3: Calcula el punto medio del intervalo actual y evalua la funcion en el punto medio\n",
        "        p = (a + b) / 2\n",
        "        FP = func(p)\n",
        "        #Guarda los resultados en la lista resultados\n",
        "        resultados.append([i, a, b, p, FP])\n",
        "\n",
        "        \"\"\"Paso 4: Establece condiciones para parar\n",
        "            Si FP==0: el punto medio p es una raiz exacta para f\n",
        "            Si (b-a)/2<tol: el intervalo es menor que la tolerancia por lo que p es una raiz aproximada\n",
        "\n",
        "           Si cualquiera de las condiciones se cumple imprime una tabla y regresa la raiz aproximada\"\"\"\n",
        "        if FP == 0 or (b - a) / 2 < tol:\n",
        "            print(tabulate(resultados, headers=[\"n\", \"a\", \"b\", \"p\", \"f(p)\"], floatfmt=\".6f\"))\n",
        "            return p\n",
        "        \"\"\"Checa la condicion de los signos\n",
        "           Si FA * FP>0: entonces a y p tienen el mismo signo y por lo tanto actualiza el valor de a\n",
        "           De lo contrario la raiz se encuentra en [a,p] y actualiza b con p\"\"\"\n",
        "        if FA * FP > 0:\n",
        "            a = p\n",
        "            FA = FP\n",
        "        else:\n",
        "            b = p\n",
        "    #Si se completa el bucle sin encontrar la raiz la tabla se imprime y manda un mensaje de fracaso\n",
        "    print(tabulate(resultados, headers=[\"n\", \"a\", \"b\", \"p\", \"f(p)\"], floatfmt=\".6f\"))\n",
        "    print(f\"El metodo fracaso despues de {n_0} iteraciones, N_0={n_0}\")\n",
        "    return None\n",
        "\n",
        "\n",
        "def sine(x):\n",
        "  return np.sin(x)\n",
        "\n",
        "def test1(x):\n",
        "  return x**3+4*x**2-10\n",
        "\n",
        "a=1\n",
        "b=2\n",
        "tol = 1e-4\n",
        "N0 = 1000\n",
        "\n",
        "raiz = biseccion(a, b, tol, N0, test1)\n",
        "if raiz is not None:\n",
        "    print(f\"La raiz aproximada es: {raiz}\")\n"
      ]
    }
  ]
}