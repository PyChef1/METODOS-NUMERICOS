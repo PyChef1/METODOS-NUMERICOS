{
  "nbformat": 4,
  "nbformat_minor": 0,
  "metadata": {
    "colab": {
      "provenance": [],
      "authorship_tag": "ABX9TyNuisO1qX8ozfPBpsPMQSGE",
      "include_colab_link": true
    },
    "kernelspec": {
      "name": "python3",
      "display_name": "Python 3"
    },
    "language_info": {
      "name": "python"
    }
  },
  "cells": [
    {
      "cell_type": "markdown",
      "metadata": {
        "id": "view-in-github",
        "colab_type": "text"
      },
      "source": [
        "<a href=\"https://colab.research.google.com/github/PyChef1/METODOS-NUMERICOS/blob/main/InterpolaciondeNeville.ipynb\" target=\"_parent\"><img src=\"https://colab.research.google.com/assets/colab-badge.svg\" alt=\"Open In Colab\"/></a>"
      ]
    },
    {
      "cell_type": "markdown",
      "source": [
        "#Interpolacion de Neville\n",
        "El metodo de Neville calcula el valor aproximado de $f(x)$ en un punto\n",
        "$x$ dado, usando una forma recursiva basada en interpolacion de Lagrange. Se organiza en una tabla donde cada entrada se calcula a partir de dos anteriores, usando la fórmula:\n",
        "  $$Q_{i,j}=\\frac{(x-x_{i-j})Q_{i,j-1}-(x-x_i)Q_{i-1,j-1}}{x_i-x_{i-j}}$$\n",
        "\n"
      ],
      "metadata": {
        "id": "L1lEjH-CvUcI"
      }
    },
    {
      "cell_type": "code",
      "execution_count": 9,
      "metadata": {
        "colab": {
          "base_uri": "https://localhost:8080/"
        },
        "id": "O5dI7Dhar2uz",
        "outputId": "1ab94cbb-77b5-46b0-93b2-8ed725129f32"
      },
      "outputs": [
        {
          "output_type": "stream",
          "name": "stdout",
          "text": [
            "+----------+--------------+--------------+--------------+--------------+\n",
            "|   P[, 0] | P[, 1]       | P[, 2]       | P[, 3]       | P[, 4]       |\n",
            "+==========+==============+==============+==============+==============+\n",
            "| 0.765198 | 0.5233448667 | 0.5124714778 | 0.5118126938 | 0.5118199942 |\n",
            "+----------+--------------+--------------+--------------+--------------+\n",
            "| 0.620086 | 0.5102968000 | 0.5112856667 | 0.5118302148 |              |\n",
            "+----------+--------------+--------------+--------------+--------------+\n",
            "| 0.455402 | 0.5132634000 | 0.5137361333 |              |              |\n",
            "+----------+--------------+--------------+--------------+--------------+\n",
            "| 0.281819 | 0.5104270000 |              |              |              |\n",
            "+----------+--------------+--------------+--------------+--------------+\n",
            "| 0.110362 |              |              |              |              |\n",
            "+----------+--------------+--------------+--------------+--------------+\n",
            "\n",
            "Valor interpolado en x = 1.5 es aproximadamente: 0.5118199942386831\n"
          ]
        }
      ],
      "source": [
        "from tabulate import tabulate\n",
        "\n",
        "def InterpolacionDeNeville(valores_x, valores_y, x):\n",
        "    n = len(valores_x)\n",
        "    Q = [[None for _ in range(n)] for _ in range(n)]\n",
        "\n",
        "    # Llenar la primera columna con los valores de y\n",
        "    for i in range(n):\n",
        "        Q[i][0] = valores_y[i]\n",
        "\n",
        "    # Calcular el resto de la tabla de Neville\n",
        "    for j in range(1, n):\n",
        "        for i in range(n - j):\n",
        "            xi, xj = valores_x[i], valores_x[i + j]\n",
        "            Q[i][j] = ((x - xi) * Q[i + 1][j - 1] - (x - xj) * Q[i][j - 1]) / (xj - xi)\n",
        "\n",
        "    tabla_formateada = []\n",
        "    for i in range(n):\n",
        "        fila = []\n",
        "        for j in range(n):\n",
        "            if j < n - i:\n",
        "                valor = Q[i][j]\n",
        "                fila.append(f\"{valor:.10f}\")\n",
        "            else:\n",
        "                fila.append(\"\")\n",
        "        tabla_formateada.append(fila)\n",
        "\n",
        "    headers = [f\"P[, {j}]\" for j in range(n)]\n",
        "    print(tabulate(tabla_formateada, headers=headers, tablefmt=\"grid\"))\n",
        "\n",
        "    return Q[0][n - 1]\n",
        "\n",
        "valores_x = [1.0, 1.3, 1.6, 1.9, 2.2]\n",
        "valores_y = [0.7651977, 0.6200860, 0.4554022, 0.2818186, 0.1103623]\n",
        "x = 1.5\n",
        "\n",
        "resultado = InterpolacionDeNeville(valores_x, valores_y, x)\n",
        "\n",
        "print(f\"\\nValor interpolado en x = {x} es aproximadamente: {resultado:}\")\n"
      ]
    }
  ]
}