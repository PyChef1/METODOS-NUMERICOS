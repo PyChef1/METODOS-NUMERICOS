{
  "nbformat": 4,
  "nbformat_minor": 0,
  "metadata": {
    "colab": {
      "provenance": [],
      "authorship_tag": "ABX9TyPJQNE+ZLFx78sHwuQz0ZHI",
      "include_colab_link": true
    },
    "kernelspec": {
      "name": "python3",
      "display_name": "Python 3"
    },
    "language_info": {
      "name": "python"
    }
  },
  "cells": [
    {
      "cell_type": "markdown",
      "metadata": {
        "id": "view-in-github",
        "colab_type": "text"
      },
      "source": [
        "<a href=\"https://colab.research.google.com/github/PyChef1/METODOS-NUMERICOS/blob/main/FalsaPosicion.ipynb\" target=\"_parent\"><img src=\"https://colab.research.google.com/assets/colab-badge.svg\" alt=\"Open In Colab\"/></a>"
      ]
    },
    {
      "cell_type": "code",
      "execution_count": 10,
      "metadata": {
        "colab": {
          "base_uri": "https://localhost:8080/"
        },
        "id": "y8F4fAp72M5j",
        "outputId": "27383315-903e-4943-f73b-4546d9ed2742"
      },
      "outputs": [
        {
          "output_type": "stream",
          "name": "stdout",
          "text": [
            "+-----+----------+--------------+--------------------+-----------------------+\n",
            "|   i |      P_i |       f(P_i) | f(P_i) * P_{i-1}   | |P_i - P_{i-1}|       |\n",
            "+=====+==========+==============+====================+=======================+\n",
            "|   0 | 0.5      |  0.377583    | >0                 | -                     |\n",
            "+-----+----------+--------------+--------------------+-----------------------+\n",
            "|   1 | 0.785398 | -0.0782914   | <0                 | 0.2853981633974483    |\n",
            "+-----+----------+--------------+--------------------+-----------------------+\n",
            "|   2 | 0.736384 |  0.00451772  | >0                 | 0.04901402456086612   |\n",
            "+-----+----------+--------------+--------------------+-----------------------+\n",
            "|   3 | 0.739058 |  4.51772e-05 | >0                 | 0.0026740003773075838 |\n",
            "+-----+----------+--------------+--------------------+-----------------------+\n",
            "|   4 | 0.739085 |  4.50872e-07 | >0                 | 2.672460082009387e-05 |\n",
            "+-----+----------+--------------+--------------------+-----------------------+\n",
            "El procedimiento fue exitoso: p = 0.7390848638147098\n"
          ]
        },
        {
          "output_type": "execute_result",
          "data": {
            "text/plain": [
              "0.7390848638147098"
            ]
          },
          "metadata": {},
          "execution_count": 10
        }
      ],
      "source": [
        "from tabulate import tabulate\n",
        "import numpy as np\n",
        "\n",
        "def falsa_posicion(f, p0, p1, tol, N0):\n",
        "    q0 = f(p0)\n",
        "    q1 = f(p1)\n",
        "    i = 2\n",
        "\n",
        "    tabla = [\n",
        "        [0, p0, q0, '<0' if q0 < 0 else '>0', '-'],\n",
        "        [1, p1, q1, '<0' if q1 < 0 else '>0', abs(p1 - p0)]\n",
        "    ]\n",
        "\n",
        "    while i <= N0:\n",
        "        p = p1 - q1 * (p1 - p0) / (q1 - q0)\n",
        "        q = f(p)\n",
        "\n",
        "        tabla.append([i, p, q, '<0' if q < 0 else '>0', abs(p - p1)])\n",
        "\n",
        "        if abs(p - p1) < tol:\n",
        "            print(tabulate(tabla, headers=[\"i\", \"P_i\", \"f(P_i)\", \"f(P_i) * P_{i-1}\", \"|P_i - P_{i-1}|\"], tablefmt=\"grid\"))\n",
        "            print(f\"El procedimiento fue exitoso: p = {p}\")\n",
        "            return p\n",
        "\n",
        "        i += 1\n",
        "\n",
        "        if q * q1 < 0:\n",
        "            p0 = p1\n",
        "            q0 = q1\n",
        "\n",
        "        p1 = p\n",
        "        q1 = q\n",
        "\n",
        "    print(tabulate(tabla, headers=[\"i\", \"P_i\", \"f(P_i)\", \"f(P_i) * f(p_{i-1})\", \"|P_i - P_{i-1}|\"], tablefmt=\"grid\"))\n",
        "    print(f\"El método falló después de {N0} iteraciones.\")\n",
        "    return None\n",
        "\n",
        "def f(x):\n",
        "   return np.cos(x)-x\n",
        "falsa_posicion(f, 0.5, np.pi/4, 0.0001, 100)"
      ]
    }
  ]
}