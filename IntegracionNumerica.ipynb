{
  "nbformat": 4,
  "nbformat_minor": 0,
  "metadata": {
    "colab": {
      "provenance": [],
      "authorship_tag": "ABX9TyPCWGz7DV7Qsuzpq63cqMbL",
      "include_colab_link": true
    },
    "kernelspec": {
      "name": "python3",
      "display_name": "Python 3"
    },
    "language_info": {
      "name": "python"
    }
  },
  "cells": [
    {
      "cell_type": "markdown",
      "metadata": {
        "id": "view-in-github",
        "colab_type": "text"
      },
      "source": [
        "<a href=\"https://colab.research.google.com/github/PyChef1/METODOS-NUMERICOS/blob/main/IntegracionNumerica.ipynb\" target=\"_parent\"><img src=\"https://colab.research.google.com/assets/colab-badge.svg\" alt=\"Open In Colab\"/></a>"
      ]
    },
    {
      "cell_type": "markdown",
      "source": [
        "# Integracion Numerica\n",
        "## Regla Trapezoidal\n",
        "La regla trapezoidal aproxima la integral de una función $ f(x) $ en un intervalo $[a, b]$ utilizando un polinomio de primer grado (trapecio). La fórmula es:\n",
        "$$\n",
        "\\int_{a}^{b} f(x) \\,dx \\approx \\frac{h}{2} \\left[ f(a) + f(b) \\right],\n",
        "$$\n",
        "donde $ h = b - a $. Para $ n $ subintervalos, la regla compuesta es:\n",
        "$$\n",
        "\\int_{a}^{b} f(x) \\,dx \\approx \\frac{h}{2} \\left[ f(a) + 2 \\sum_{i=1}^{n-1} f(x_i) + f(b) \\right],\n",
        "$$\n",
        "con $ h = \\frac{b - a}{n} $ y $ x_i = a + i h $.\n",
        "\n",
        "## Regla de Simpson\n",
        "La regla de Simpson utiliza un polinomio de segundo grado para aproximar $ f(x) $ en $[a, b]$. La fórmula básica es:\n",
        "$$\n",
        "\\int_{a}^{b} f(x) \\,dx \\approx \\frac{h}{3} \\left[ f(a) + 4 f\\left(\\frac{a + b}{2}\\right) + f(b) \\right],\n",
        "$$\n",
        "donde $ h = \\frac{b - a}{2} $. La versión compuesta para $ n $ (par) subintervalos es:\n",
        "$$\n",
        "\\int_{a}^{b} f(x) \\,dx \\approx \\frac{h}{3} \\left[ f(a) + 4 \\sum_{\\substack{i=1 \\\\ i \\text{ impar}}}^{n-1} f(x_i) + 2 \\sum_{\\substack{i=2 \\\\ i \\text{ par}}}^{n-2} f(x_i) + f(b) \\right],\n",
        "$$\n",
        "con $ h = \\frac{b - a}{n} $.\n",
        "\n",
        "## Regla de los Tres Octavos de Simpson\n",
        "Este método emplea un polinomio de tercer grado en $[a, b]$. La fórmula es:\n",
        "$$\n",
        "\\int_{a}^{b} f(x) \\,dx \\approx \\frac{3h}{8} \\left[ f(a) + 3 f\\left(a + h\\right) + 3 f\\left(a + 2h\\right) + f(b) \\right],\n",
        "$$\n",
        "donde $ h = \\frac{b - a}{3} $.\n",
        "$$\n",
        " con $h = \\frac{b - a}{n}$.\n",
        "\n"
      ],
      "metadata": {
        "id": "0xHHd3_OFSW5"
      }
    },
    {
      "cell_type": "code",
      "execution_count": null,
      "metadata": {
        "id": "s8Un_MHb_rV1"
      },
      "outputs": [],
      "source": [
        "import sympy as sp\n",
        "import numpy as np\n",
        "\n",
        "def trapezoidal(f, a, b):\n",
        "  x = sp.Symbol('x')\n",
        "  h = (b - a)\n",
        "  return (h / 2) * (f.subs(x, a) + f.subs(x, b))\n",
        "\n",
        "def simpson(f, a, b):\n",
        "  x = sp.Symbol('x')\n",
        "  h = (b - a) / 2\n",
        "  return (h / 3) * (f.subs(x, a) + 4 * f.subs(x, a + h) + f.subs(x, b))\n",
        "\n",
        "def simpson_3_8(f, a, b):\n",
        "  x = sp.Symbol('x')\n",
        "  h = (b - a) / 3\n",
        "  return (3 * h / 8) * (f.subs(x, a) + 3 * f.subs(x, a + h) + 3 * f.subs(x, a + 2 * h) + f.subs(x, b))\n",
        "\n",
        "def n_4(f, a, b):\n",
        "  x = sp.Symbol('x')\n",
        "  h = (b - a) / 4\n",
        "  return (2 * h / 45) * (7 * f.subs(x, a) + 32 * f.subs(x, a + h) + 12 * f.subs(x, a + 2 * h) + 32 * f.subs(x, a + 3 * h)+ 7 * f.subs(x, b))\n"
      ]
    },
    {
      "cell_type": "code",
      "source": [
        "x = sp.Symbol('x')\n",
        "def f(x):\n",
        "  return sp.sin(x)"
      ],
      "metadata": {
        "id": "md7KvCB4A0sz"
      },
      "execution_count": null,
      "outputs": []
    },
    {
      "cell_type": "code",
      "source": [
        "print(\"Trapezoidal: \", trapezoidal(f(x), 0, np.pi/4))\n",
        "print(\"Simpson: \", simpson(f(x), 0, np.pi/4))\n",
        "print(\"Simpson 3/8: \", simpson_3_8(f(x), 0, np.pi/4))\n",
        "print(\"n=4: \", n_4(f(x), 0, np.pi/4))"
      ],
      "metadata": {
        "colab": {
          "base_uri": "https://localhost:8080/"
        },
        "id": "-OX3anL6BaPr",
        "outputId": "52a7e3ae-a4af-40e0-af0e-701a7ef2fc79"
      },
      "execution_count": null,
      "outputs": [
        {
          "output_type": "stream",
          "name": "stdout",
          "text": [
            "Trapezoidal:  0.277680183634898\n",
            "Simpson:  0.292932637839748\n",
            "Simpson 3/8:  0.292910702549171\n",
            "n=4:  0.292893182561264\n"
          ]
        }
      ]
    }
  ]
}