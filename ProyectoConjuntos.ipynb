{
  "nbformat": 4,
  "nbformat_minor": 0,
  "metadata": {
    "colab": {
      "provenance": [],
      "authorship_tag": "ABX9TyOlDWkBCUfic1hsrwnlEve9",
      "include_colab_link": true
    },
    "kernelspec": {
      "name": "python3",
      "display_name": "Python 3"
    },
    "language_info": {
      "name": "python"
    }
  },
  "cells": [
    {
      "cell_type": "markdown",
      "metadata": {
        "id": "view-in-github",
        "colab_type": "text"
      },
      "source": [
        "<a href=\"https://colab.research.google.com/github/PyChef1/METODOS-NUMERICOS/blob/main/ProyectoConjuntos.ipynb\" target=\"_parent\"><img src=\"https://colab.research.google.com/assets/colab-badge.svg\" alt=\"Open In Colab\"/></a>"
      ]
    },
    {
      "cell_type": "markdown",
      "source": [
        "#Proyecto Conjuntos\n",
        "En la teoria de conjuntos, tenemos un concepto de suma importancia, las **relaciones de equivalencia**. Estas nos permiten clasificar elementos de un conjunto atraves de clases de equivalencia.  "
      ],
      "metadata": {
        "id": "bkCUWVFQgNj6"
      }
    },
    {
      "cell_type": "markdown",
      "source": [
        "**Definicion:** Sea $A$. Una relacion binaria $E⊆A\\times A$ se llamara de equivalencia si satisface las siguientes tres propiedades.\n",
        "\n",
        "1.   $E$ es reflexiva\n",
        "2.   $E$ es simetrica\n",
        "3.   $E$ es transitiva\n",
        "\n"
      ],
      "metadata": {
        "id": "uLja9kzTiqcn"
      }
    },
    {
      "cell_type": "markdown",
      "source": [
        "Para poder escribir un programa que verifique si una relacion es de equivalencia, utilizaremos una matriz de adyacencia como herramienta para modelar la relacion."
      ],
      "metadata": {
        "id": "UCZgP-C_jnZh"
      }
    },
    {
      "cell_type": "markdown",
      "source": [
        "**Definicion:** Sean $A=\\{a_1,...,a_n\\}$ y $B=\\{b_1,...,b_n\\}$ conjuntos y sea $\\sim$ relacion de $A$ a $B$, entonces $R$ puede ser representado como una matriz $M$ de tamano $n\\times n$ definida por $$M_{ij}=\\begin{cases}\n",
        "1\\qquad\\text{Si }a_iRb_j \\\\ 0\\qquad\\text{En otro caso}\n",
        "\\end{cases}$$ $M$ se llama la matriz de adyacencia de $R$."
      ],
      "metadata": {
        "id": "FGdCN0_SkM-f"
      }
    },
    {
      "cell_type": "markdown",
      "source": [
        "**Ejemplo:** Sea $A=\\{2,5,6\\}$ y $R$ la relacion $\\{(2,2),(2,5),(5,6),(6,6)\\}$. Como la relacion esta definida hacia el mismo conjunto entonces la representacion de $R$ sera: $$A=\\begin{pmatrix}\n",
        "1 & 1 & 0 \\\\ 0 & 0 & 1 \\\\ 0 & 0 & 1\n",
        "\\end{pmatrix}$$"
      ],
      "metadata": {
        "id": "pni-FYk0m0k4"
      }
    },
    {
      "cell_type": "markdown",
      "source": [
        "Con esta idea podemos inferir como se ve una relacion que sea reflexiva y simetrica bajo una matriz A."
      ],
      "metadata": {
        "id": "4Eq7TSAwoW0t"
      }
    },
    {
      "cell_type": "markdown",
      "source": [
        "*   Diremos que la relacion $R$ es reflexiva si $[R]_{ii}=1$ (La diagonal principal contiene solo unos)\n",
        "*   Diremos que la relacion $R$ es simetrica si $[R]=[R]^T$"
      ],
      "metadata": {
        "id": "iV_3Oa1CoojX"
      }
    },
    {
      "cell_type": "markdown",
      "source": [
        "Ahora para verificar que la matriz de una relacion sea transitiva utlizaremos es siguiente teorema:"
      ],
      "metadata": {
        "id": "09D-HFh3pfnM"
      }
    },
    {
      "cell_type": "markdown",
      "source": [
        "**Teorema:** Si $R$ es una relación sobre un conjunto $X $ y $A$ es la matriz de $R$. La relación $R$ es transitiva si y sólo si siempre que el elemento  \n",
        "$i, j$ de $A^2$ es diferente de cero, el elemento $i, j$ de $A$ también es diferente de cero."
      ],
      "metadata": {
        "id": "t1lgaFKBqePS"
      }
    },
    {
      "cell_type": "markdown",
      "source": [
        "**Demostracion:**  \n",
        "\n",
        "$\\implies)$ Supongamos que $R$ es transitiva. Si $(A^2)_{ij}\\neq 0$, entonces existe $x_k$ tal que $(x_i,x_k)\\in R$ y $(x_k,x_j)\\in R$. Por transitividad $(x_i,x_j)\\in R$ por lo que $A_{ij}=1\\neq0$\n",
        "\n",
        "$\\impliedby)$ Supongamos que para todo $i,j$, si $(A^2)_{ij}\\neq0$, entonces $A_{ij}\\neq0$. Si $(x_i,x_k)\\in R$, entonces $(A^2)_{ij}\\neq0$ lo que implica $A_{ij}\\neq0$, es decir $(x_i,x_j)\\in R$, por lo tanto $R$ es transitiva.\n",
        "\n"
      ],
      "metadata": {
        "id": "AT7vRdJesiGK"
      }
    },
    {
      "cell_type": "markdown",
      "source": [
        "A continuacion, un codigo en Python que verifica esto:"
      ],
      "metadata": {
        "id": "L743NFNTvxhv"
      }
    },
    {
      "cell_type": "code",
      "execution_count": 2,
      "metadata": {
        "id": "1SoHXVHig4Od"
      },
      "outputs": [],
      "source": [
        "import numpy as np\n",
        "\n",
        "def checa_entradas(matriz):\n",
        "    if matriz.shape[0] != matriz.shape[1]:\n",
        "        return \"La matriz debe ser cuadrada\"\n",
        "    for i in range(matriz.shape[0]):\n",
        "        for j in range(matriz.shape[1]):\n",
        "            if matriz[i, j] not in [0, 1]:\n",
        "                return \"La matriz solo puede tener entradas de 1 o 0\"\n",
        "    return None\n",
        "\n",
        "def obtener_matriz():\n",
        "    dim = int(input(\"Digite la dimension de la matriz: \"))\n",
        "    matriz = []\n",
        "    for i in range(dim):\n",
        "        fila = []\n",
        "        for j in range(dim):\n",
        "            entrada = int(input(f\"Digite el valor para la fila {i+1}, columna {j+1} (0 o 1): \"))\n",
        "            if entrada not in [0, 1]:\n",
        "                print(\"Entrada inválida. Solo se permiten 0 o 1.\")\n",
        "                return obtener_matriz()\n",
        "            fila.append(entrada)\n",
        "        matriz.append(fila)\n",
        "    return np.array(matriz)\n",
        "\n",
        "def reflexividad(matriz):\n",
        "    if np.all(np.diag(matriz) == 1):\n",
        "        return \"Es reflexiva\"\n",
        "    else:\n",
        "        return \"No es reflexiva\"\n",
        "\n",
        "def simetria(matriz):\n",
        "    if np.array_equal(matriz, matriz.T):\n",
        "        return \"Es simétrica\"\n",
        "    else:\n",
        "        return \"No es simétrica\"\n",
        "\n",
        "def transitividad(matriz):\n",
        "    producto = np.zeros_like(matriz)\n",
        "    for i in range(matriz.shape[0]):\n",
        "        for j in range(matriz.shape[1]):\n",
        "            producto[i, j] = np.any(np.logical_and(matriz[i, :], matriz[:, j]))\n",
        "\n",
        "    if np.all(producto <= matriz):\n",
        "        return \"Es transitiva\"\n",
        "    else:\n",
        "        return \"No es transitiva\"\n"
      ]
    },
    {
      "cell_type": "markdown",
      "source": [
        "**Nota**: En la reflexividad tenemos que realizar el producto de dos matrices,pero para que las matrices resultantes tengan sentido, utilizaremos aritmetica booleana es decir:\n",
        "\n",
        "1.   $+⟶\\lor$\n",
        "2.   $·⟶\\land$\n",
        "\n",
        "Por ejemplo\n",
        "*   $0+0=0⟼0\\lor0=0$\n",
        "*   $0·0=0⟼0\\land0=0$\n",
        "*   $1+1=1\\lor1=1$\n",
        "*   $1·1=1\\land1=1$\n",
        "*   $1+0=1\\lor0=1$\n",
        "*   $1⋅0=1\\land0=0$\n",
        "\n",
        "\n"
      ],
      "metadata": {
        "id": "WNsmz2GZwBJ5"
      }
    },
    {
      "cell_type": "markdown",
      "source": [
        "Ahora podemos probar nuestro codigo, consideremos $$A=\\begin{pmatrix}\n",
        "1 & 1 & 0 \\\\ 1 & 1 &0 \\\\ 0&0&1\n",
        "\\end{pmatrix},\\ B=\\begin{pmatrix}0 & 1 & 0 \\\\ 1 & 0 & 1 \\\\ 0 & 1 & 0\\end{pmatrix},\\ C=\\begin{pmatrix}1&1&0 \\\\ 0 & 1 & 1 \\\\ 0 & 0 &1 \\end{pmatrix}$$"
      ],
      "metadata": {
        "id": "TspTNFCL1aWG"
      }
    },
    {
      "cell_type": "code",
      "source": [
        "matriz = obtener_matriz()\n",
        "error = checa_entradas(matriz)\n",
        "\n",
        "if error:\n",
        "    print(error)\n",
        "else:\n",
        "    print(reflexividad(matriz))\n",
        "    print(simetria(matriz))\n",
        "    print(transitividad(matriz))"
      ],
      "metadata": {
        "colab": {
          "base_uri": "https://localhost:8080/"
        },
        "id": "AvUH0Y_O3SRY",
        "outputId": "c0f47e01-d001-4377-b434-e9b346ec073e"
      },
      "execution_count": 4,
      "outputs": [
        {
          "output_type": "stream",
          "name": "stdout",
          "text": [
            "Digite la dimension de la matriz: 3\n",
            "Digite el valor para la fila 1, columna 1 (0 o 1): 1\n",
            "Digite el valor para la fila 1, columna 2 (0 o 1): 1\n",
            "Digite el valor para la fila 1, columna 3 (0 o 1): 0\n",
            "Digite el valor para la fila 2, columna 1 (0 o 1): 0\n",
            "Digite el valor para la fila 2, columna 2 (0 o 1): 1\n",
            "Digite el valor para la fila 2, columna 3 (0 o 1): 1\n",
            "Digite el valor para la fila 3, columna 1 (0 o 1): 0\n",
            "Digite el valor para la fila 3, columna 2 (0 o 1): 0\n",
            "Digite el valor para la fila 3, columna 3 (0 o 1): 1\n",
            "Es reflexiva\n",
            "No es simétrica\n",
            "No es transitiva\n"
          ]
        }
      ]
    }
  ]
}