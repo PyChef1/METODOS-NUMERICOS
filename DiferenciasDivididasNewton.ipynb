{
  "nbformat": 4,
  "nbformat_minor": 0,
  "metadata": {
    "colab": {
      "provenance": [],
      "authorship_tag": "ABX9TyOWLTqe8YVx+48Ggp/moiih",
      "include_colab_link": true
    },
    "kernelspec": {
      "name": "python3",
      "display_name": "Python 3"
    },
    "language_info": {
      "name": "python"
    }
  },
  "cells": [
    {
      "cell_type": "markdown",
      "metadata": {
        "id": "view-in-github",
        "colab_type": "text"
      },
      "source": [
        "<a href=\"https://colab.research.google.com/github/PyChef1/METODOS-NUMERICOS/blob/main/DiferenciasDivididasNewton.ipynb\" target=\"_parent\"><img src=\"https://colab.research.google.com/assets/colab-badge.svg\" alt=\"Open In Colab\"/></a>"
      ]
    },
    {
      "cell_type": "markdown",
      "source": [
        "#Diferencias Divididas\n",
        "El método de diferencias divididas de Newton se utiliza para construir un polinomio de interpolación que pase por un conjunto de puntos dados:\n",
        "\n",
        "El polinomio interpolante en la forma de Newton es:\n",
        "$$\n",
        "P(x) = f[x_0] + f[x_0, x_1](x - x_0) + f[x_0, x_1, x_2](x - x_0)(x - x_1) + \\dots + f[x_0, \\dots, x_n](x - x_0)\\dots(x - x_{n-1})\n",
        "$$\n",
        "Las diferencias divididas se calculan de forma recursiva:\n",
        "\n",
        "*    **Primera diferencia dividida**:\n",
        "    $$\n",
        "    f[x_i, x_{i+1}] = \\frac{f(x_{i+1}) - f(x_i)}{x_{i+1} - x_i}\n",
        "    $$\n",
        "    \n",
        "*   **Segunda diferencia dividida**:\n",
        "    $$\n",
        "    f[x_i, x_{i+1}, x_{i+2}] = \\frac{f[x_{i+1}, x_{i+2}] - f[x_i, x_{i+1}]}{x_{i+2} - x_i}\n",
        "    $$\n",
        "    \n",
        "*   **En general**:\n",
        "    $$\n",
        "    f[x_i, x_{i+1}, \\dots, x_{i+k}] = \\frac{f[x_{i+1}, \\dots, x_{i+k}] - f[x_i, \\dots, x_{i+k-1}]}{x_{i+k} - x_i}\n",
        "    $$\n"
      ],
      "metadata": {
        "id": "iGK0JzLC8VPC"
      }
    },
    {
      "cell_type": "code",
      "execution_count": 2,
      "metadata": {
        "id": "G4vJMtQY2l3v"
      },
      "outputs": [],
      "source": [
        "from tabulate import tabulate\n",
        "def DiferenciasDivididas(valores_x, valores_y):\n",
        "  n = len(valores_x)\n",
        "  if n != len(valores_y):\n",
        "    raise ValueError(\"Las listas de valores x e y deben tener la misma longitud.\")\n",
        "\n",
        "  F = [[0 for _ in range(n)] for _ in range(n)] #Iniciamos una tabla vacia donde almacenaremos los valores para F\n",
        "\n",
        "  for i in range(n):\n",
        "    F[i][0] = valores_y[i]\n",
        "\n",
        "    for i in range(1,n):\n",
        "      for j in range(1, i+1):\n",
        "        F[i][j]=(F[i][j-1] - F[i-1][j-1])/(valores_x[i]-valores_x[i-j]) #Hacemos el calculo de las Diferencias divididas\n",
        "\n",
        "#Construimos la tabla\n",
        "  headers = [\"i\", \"x_i\", \"f[x_i]\"]+[f\"f[x_i]-{k},...,x_i\" for k in range(1,n)]\n",
        "  datos = []\n",
        "  for i in range(n):\n",
        "    fila = [i, valores_x[i]] + [F[i][j] if j<=i else \"\" for j in range(n)]\n",
        "    datos.append(fila)\n",
        "\n",
        "  print(tabulate(datos, headers=headers, tablefmt=\"grid\"))\n",
        "\n",
        "  coeficientes = [F[i][i] for i in range(n)]\n",
        "  return coeficientes"
      ]
    },
    {
      "cell_type": "code",
      "source": [
        "valores_x = [1.0, 1.3, 1.6, 1.9, 2.2]\n",
        "valores_y = [0.7651977, 0.6200860, 0.4554022, 0.2818186, 0.1103623]\n",
        "\n",
        "coeficientes = DiferenciasDivididas(valores_x, valores_y)"
      ],
      "metadata": {
        "colab": {
          "base_uri": "https://localhost:8080/"
        },
        "id": "0v7DqPkr5A1x",
        "outputId": "eaa2dd05-0faa-4a5c-87fb-76ef024913d1"
      },
      "execution_count": 3,
      "outputs": [
        {
          "output_type": "stream",
          "name": "stdout",
          "text": [
            "+-----+-------+----------+---------------------+----------------------+---------------------+-----------------------+\n",
            "|   i |   x_i |   f[x_i] | f[x_i]-1,...,x_i    | f[x_i]-2,...,x_i     | f[x_i]-3,...,x_i    | f[x_i]-4,...,x_i      |\n",
            "+=====+=======+==========+=====================+======================+=====================+=======================+\n",
            "|   0 |   1   | 0.765198 |                     |                      |                     |                       |\n",
            "+-----+-------+----------+---------------------+----------------------+---------------------+-----------------------+\n",
            "|   1 |   1.3 | 0.620086 | -0.4837056666666664 |                      |                     |                       |\n",
            "+-----+-------+----------+---------------------+----------------------+---------------------+-----------------------+\n",
            "|   2 |   1.6 | 0.455402 | -0.548946           | -0.10873388888888935 |                     |                       |\n",
            "+-----+-------+----------+---------------------+----------------------+---------------------+-----------------------+\n",
            "|   3 |   1.9 | 0.281819 | -0.5786120000000003 | -0.04944333333333385 | 0.06587839506172834 |                       |\n",
            "+-----+-------+----------+---------------------+----------------------+---------------------+-----------------------+\n",
            "|   4 |   2.2 | 0.110362 | -0.5715209999999994 | 0.011818333333334928 | 0.06806851851852086 | 0.0018251028806604353 |\n",
            "+-----+-------+----------+---------------------+----------------------+---------------------+-----------------------+\n"
          ]
        }
      ]
    }
  ]
}