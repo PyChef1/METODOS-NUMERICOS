{
  "nbformat": 4,
  "nbformat_minor": 0,
  "metadata": {
    "colab": {
      "provenance": [],
      "authorship_tag": "ABX9TyP5XB4q1nRUjxwIui4IfATW",
      "include_colab_link": true
    },
    "kernelspec": {
      "name": "python3",
      "display_name": "Python 3"
    },
    "language_info": {
      "name": "python"
    }
  },
  "cells": [
    {
      "cell_type": "markdown",
      "metadata": {
        "id": "view-in-github",
        "colab_type": "text"
      },
      "source": [
        "<a href=\"https://colab.research.google.com/github/PyChef1/METODOS-NUMERICOS/blob/main/MetododeNewtonRaphson.ipynb\" target=\"_parent\"><img src=\"https://colab.research.google.com/assets/colab-badge.svg\" alt=\"Open In Colab\"/></a>"
      ]
    },
    {
      "cell_type": "code",
      "execution_count": 17,
      "metadata": {
        "id": "Bc5kuXfxccfJ"
      },
      "outputs": [],
      "source": [
        "import numpy as np\n",
        "import sympy as sp\n",
        "from tabulate import tabulate\n",
        "\n",
        "def newton_raphson(p_0, tol, n_0, f, f_deriv): #La funcion pide valor inicial, tolerancia, numero maximo de iteracones y funcion y su derivada\n",
        "    lista = [] #Inicia la lista por la cual agregaremos los valores\n",
        "    i = 1\n",
        "    p_prev = p_0\n",
        "    while i <= n_0:\n",
        "        p = p_0 - (f(p_0)) / f_deriv(p_0) #Esta es la definicion de la sucesion\n",
        "        error = abs(p - p_prev)\n",
        "        lista.append([i, p_0, p, error])\n",
        "        if error < tol:\n",
        "            print(tabulate(lista, headers=[\"i\", \"p_i\", \"p_i+1\", \"Error\"], tablefmt=\"grid\"))\n",
        "            return p\n",
        "        i += 1\n",
        "        p_prev = p_0\n",
        "        p_0 = p\n",
        "    print(tabulate(lista, headers=[\"i\", \"p_i\", \"p_i+1\", \"Error\"], tablefmt=\"grid\"))\n",
        "    return f\"El metodo fallo despues de {n_0} iteraciones\""
      ]
    },
    {
      "cell_type": "code",
      "source": [
        "def f(x):\n",
        "  return np.cos(x) - x\n",
        "\n",
        "def f_deriv(x):\n",
        "  return -np.sin(x) - 1"
      ],
      "metadata": {
        "id": "iHbFbxkoed2N"
      },
      "execution_count": 18,
      "outputs": []
    },
    {
      "cell_type": "code",
      "source": [
        "resultado = newton_raphson(0, 1e-8, 100, f, f_deriv)\n",
        "print(resultado)"
      ],
      "metadata": {
        "colab": {
          "base_uri": "https://localhost:8080/"
        },
        "id": "tc3msVeGeonV",
        "outputId": "3e93ca5d-8102-4ca8-bbb8-579f661da3e6"
      },
      "execution_count": 19,
      "outputs": [
        {
          "output_type": "stream",
          "name": "stdout",
          "text": [
            "+-----+----------+----------+-------------+\n",
            "|   i |      p_i |    p_i+1 |       Error |\n",
            "+=====+==========+==========+=============+\n",
            "|   1 | 0        | 1        | 1           |\n",
            "+-----+----------+----------+-------------+\n",
            "|   2 | 1        | 0.750364 | 0.750364    |\n",
            "+-----+----------+----------+-------------+\n",
            "|   3 | 0.750364 | 0.739113 | 0.260887    |\n",
            "+-----+----------+----------+-------------+\n",
            "|   4 | 0.739113 | 0.739085 | 0.0112787   |\n",
            "+-----+----------+----------+-------------+\n",
            "|   5 | 0.739085 | 0.739085 | 2.77577e-05 |\n",
            "+-----+----------+----------+-------------+\n",
            "|   6 | 0.739085 | 0.739085 | 1.70123e-10 |\n",
            "+-----+----------+----------+-------------+\n",
            "0.7390851332151607\n"
          ]
        }
      ]
    }
  ]
}