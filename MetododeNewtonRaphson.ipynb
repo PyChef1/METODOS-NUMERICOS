{
  "nbformat": 4,
  "nbformat_minor": 0,
  "metadata": {
    "colab": {
      "provenance": [],
      "authorship_tag": "ABX9TyN8jWVB73j5eMpcOIxnJnR+",
      "include_colab_link": true
    },
    "kernelspec": {
      "name": "python3",
      "display_name": "Python 3"
    },
    "language_info": {
      "name": "python"
    }
  },
  "cells": [
    {
      "cell_type": "markdown",
      "metadata": {
        "id": "view-in-github",
        "colab_type": "text"
      },
      "source": [
        "<a href=\"https://colab.research.google.com/github/PyChef1/METODOS-NUMERICOS/blob/main/MetododeNewtonRaphson.ipynb\" target=\"_parent\"><img src=\"https://colab.research.google.com/assets/colab-badge.svg\" alt=\"Open In Colab\"/></a>"
      ]
    },
    {
      "cell_type": "markdown",
      "source": [
        "#Metodo de Newton\n",
        "Suponga que $f \\in C^2[a,b]$. Si $p_0 \\in [a,b]$ es una aproximación para $p$, de tal forma que $f'(p_0) \\neq 0$ y $|p - p_0|$ es ``pequeño''. Considere que el primer polinomio de Taylor para $f(x)$ expandido alrededor de $p_0$ y evaluado en $x = p$:\n",
        "\n",
        "$$\n",
        "f(p) = f(p_0) + (p - p_0) f'(p_0) + \\frac{(p - p_0)^2}{2} f''(\\xi(p)),\n",
        "$$\n",
        "\n",
        "donde $\\xi(p)$ se encuentra entre $p$ y $p_0$. Puesto que $f(p) = 0$, esta ecuación nos da\n",
        "\n",
        "$$\n",
        "0 = f(p_0) + (p - p_0) f'(p_0) + \\frac{(p - p_0)^2}{2} f''(\\xi(p)).\n",
        "$$\n",
        "\n",
        "El método de Newton se deriva al suponer que como $|p - p_0|$ es pequeño, el término relacionado con $(p - p_0)^2$ es mucho más pequeño, entonces\n",
        "\n",
        "$$\n",
        "0 \\approx f(p_0) + (p - p_0) f'(p_0).\n",
        "$$\n",
        "\n",
        "Al resolver para $p$ obtenemos\n",
        "\n",
        "$$\n",
        "p \\approx p_0 - \\frac{f(p_0)}{f'(p_0)} = p_1.\n",
        "$$\n",
        "\n",
        "Esto constituye la base para el método de Newton, que empieza con una aproximación inicial $p_0$ y genera la sucesión $\\{p_n\\}_{n=0}^{\\infty}$ mediante\n",
        "\n",
        "$$\n",
        "p_n = p_{n-1} - \\frac{f(p_{n-1})}{f'(p_{n-1})}, \\quad \\text{para } n \\geq 1.\n",
        "$$\n"
      ],
      "metadata": {
        "id": "FKDyDkUDrO9e"
      }
    },
    {
      "cell_type": "code",
      "execution_count": null,
      "metadata": {
        "id": "Bc5kuXfxccfJ"
      },
      "outputs": [],
      "source": [
        "import numpy as np\n",
        "import sympy as sp\n",
        "from tabulate import tabulate\n",
        "\n",
        "def newton_raphson(p_0, tol, n_0, f, f_deriv): #La funcion pide valor inicial, tolerancia, numero maximo de iteracones y funcion y su derivada\n",
        "    lista = [] #Inicia la lista por la cual agregaremos los valores\n",
        "    i = 1\n",
        "    p_prev = p_0\n",
        "    while i <= n_0:\n",
        "        p = p_0 - (f(p_0)) / f_deriv(p_0) #Esta es la definicion de la sucesion\n",
        "        error = abs(p - p_prev)\n",
        "        lista.append([i, p_0, p, error])\n",
        "        if error < tol:\n",
        "            print(tabulate(lista, headers=[\"i\", \"p_i\", \"p_i+1\", \"Error\"], tablefmt=\"grid\"))\n",
        "            return p\n",
        "        i += 1\n",
        "        p_prev = p_0\n",
        "        p_0 = p\n",
        "    print(tabulate(lista, headers=[\"i\", \"p_i\", \"p_i+1\", \"Error\"], tablefmt=\"grid\"))\n",
        "    return f\"El metodo fallo despues de {n_0} iteraciones\""
      ]
    },
    {
      "cell_type": "code",
      "source": [
        "def f(x):\n",
        "  return np.cos(x) - x\n",
        "\n",
        "def f_deriv(x):\n",
        "  return -np.sin(x) - 1"
      ],
      "metadata": {
        "id": "iHbFbxkoed2N"
      },
      "execution_count": null,
      "outputs": []
    },
    {
      "cell_type": "code",
      "source": [
        "resultado = newton_raphson(0, 1e-8, 100, f, f_deriv)\n",
        "print(resultado)"
      ],
      "metadata": {
        "colab": {
          "base_uri": "https://localhost:8080/"
        },
        "id": "tc3msVeGeonV",
        "outputId": "3e93ca5d-8102-4ca8-bbb8-579f661da3e6"
      },
      "execution_count": null,
      "outputs": [
        {
          "output_type": "stream",
          "name": "stdout",
          "text": [
            "+-----+----------+----------+-------------+\n",
            "|   i |      p_i |    p_i+1 |       Error |\n",
            "+=====+==========+==========+=============+\n",
            "|   1 | 0        | 1        | 1           |\n",
            "+-----+----------+----------+-------------+\n",
            "|   2 | 1        | 0.750364 | 0.750364    |\n",
            "+-----+----------+----------+-------------+\n",
            "|   3 | 0.750364 | 0.739113 | 0.260887    |\n",
            "+-----+----------+----------+-------------+\n",
            "|   4 | 0.739113 | 0.739085 | 0.0112787   |\n",
            "+-----+----------+----------+-------------+\n",
            "|   5 | 0.739085 | 0.739085 | 2.77577e-05 |\n",
            "+-----+----------+----------+-------------+\n",
            "|   6 | 0.739085 | 0.739085 | 1.70123e-10 |\n",
            "+-----+----------+----------+-------------+\n",
            "0.7390851332151607\n"
          ]
        }
      ]
    }
  ]
}