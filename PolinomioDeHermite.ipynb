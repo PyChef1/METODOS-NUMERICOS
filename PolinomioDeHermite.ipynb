{
  "nbformat": 4,
  "nbformat_minor": 0,
  "metadata": {
    "colab": {
      "provenance": [],
      "authorship_tag": "ABX9TyNK9eG/m6lCJgdb2ayxjpam",
      "include_colab_link": true
    },
    "kernelspec": {
      "name": "python3",
      "display_name": "Python 3"
    },
    "language_info": {
      "name": "python"
    }
  },
  "cells": [
    {
      "cell_type": "markdown",
      "metadata": {
        "id": "view-in-github",
        "colab_type": "text"
      },
      "source": [
        "<a href=\"https://colab.research.google.com/github/PyChef1/METODOS-NUMERICOS/blob/main/PolinomioDeHermite.ipynb\" target=\"_parent\"><img src=\"https://colab.research.google.com/assets/colab-badge.svg\" alt=\"Open In Colab\"/></a>"
      ]
    },
    {
      "cell_type": "markdown",
      "source": [
        "#Interpolacion de Hermite\n",
        "\n",
        "Cuando $m_i = 1$, para cada $i = 0, 1, \\dots, n$, nos da los polinomios de Hermite. Para una función $f$ determinada, estos polinomios concuerdan con $f$ en $x_0, x_1, \\dots, x_n$. Además, puesto que sus primeras derivadas concuerdan con las de $f$, tienen la misma ``forma'' que la función en $(x_i, f(x_i))$, en el sentido en el que las rectas tangentes al polinomio y a la función concuerdan.\n",
        "\n",
        "Nosotros limitaremos nuestro estudio de los polinomios osculantes a esta situación y primero consideraremos un teorema que describe de manera precisa la forma de los polinomios de Hermite.\n",
        "\n",
        "**Teorema**\n",
        "\n",
        "Si $f \\in C^{1}[a,b]$ y $x_0, \\dots, x_n \\in [a,b]$ son distintos, el único polinomio de menor grado que concuerda con $f$ y $f'$ en $x_0, \\dots, x_n$ es el polinomio de Hermite de grado a lo sumo $2n+1$ dado por:\n",
        "\n",
        "$$\n",
        "H_{2n+1}(x) = \\sum_{j=0}^{n} f(x_j) H_{n,j}(x) + \\sum_{j=0}^{n} f'(x_j) \\hat{H}_{n,j}(x),\n",
        "$$\n",
        "\n",
        "donde cada $L_{n,j}(x)$ denota el $j$-ésimo coeficiente del polinomio de Lagrange de grado $n$, y\n",
        "\n",
        "$$\n",
        "H_{n,j}(x) = \\left[ 1 - 2(x - x_j) L'_{n,j}(x_j) \\right] L^2_{n,j}(x), \\quad\n",
        "\\hat{H}_{n,j}(x) = (x - x_j) L^2_{n,j}(x).\n",
        "$$\n",
        "\n",
        "Además, si $f \\in C^{2n+2}[a,b]$, entonces\n",
        "\n",
        "$$\n",
        "f(x) = H_{2n+1}(x) + \\frac{(x - x_0)^2 \\cdots (x - x_n)^2}{(2n+2)!} f^{(2n+2)}(\\xi(x)),\n",
        "$$\n",
        "\n",
        "para algunos (en general desconocidos) $\\xi(x)$ en el intervalo $(a, b)$.\n",
        "\n",
        "**Demostración:** Primero, recuerde que\n",
        "\n",
        "$$\n",
        "L_{n,j}(x_i) =\n",
        "\\begin{cases}\n",
        "0, & \\text{si } i \\ne j, \\\\\n",
        "1, & \\text{si } i = j.\n",
        "\\end{cases}\n",
        "$$\n",
        "\n",
        "Por lo tanto, cuando $i \\ne j$,\n",
        "\n",
        "$$\n",
        "H_{n,j}(x_i) = 0, \\quad \\hat{H}_{n,j}(x_i) = 0,\n",
        "$$\n",
        "\n",
        "Mientras que, para cada $i$,\n",
        "\n",
        "$$\n",
        "H_{n,i}(x_i) = \\left[1 - 2(x_i - x_i) L'_{n,i}(x_i) \\right] \\cdot 1 = 1, \\quad \\hat{H}_{n,i}(x_i) = (x_i - x_i) \\cdot 1^2 = 0.\n",
        "$$\n",
        "$$\n",
        "H_{2n+1}(x_i) = \\sum_{\\substack{j=0 \\\\ j \\ne i}}^{n} f(x_j) \\cdot 0 + f(x_i) \\cdot 1 + \\sum_{j=0}^{n} f'(x_j) \\cdot 0 = f(x_i),\n",
        "$$\n",
        "\n",
        "de modo que $H_{2n+1}$ concuerda con $f$ en $x_0, x_1, \\dots, x_n$.\n",
        "\n",
        "Para mostrar la concordancia de $H'_{2n+1}$ con $f'$ en los nodos, primero observe que $L_{n,j}(x)$ es un factor de $H'_{n,j}(x)$, por lo que $H'_{n,j}(x_i) = 0$ cuando $i \\ne j$. Además, cuando $i = j$, tenemos $L_{n,i}(x_i) = 1$, por lo que\n",
        "\n",
        "$$\n",
        "H'_{n,i}(x_i) = -2 L'_{n,i}(x_i) \\cdot L^2_{n,i}(x_i) + [1 - 2(x_i - x_i)L'_{n,i}(x_i)] 2 L_{n,i}(x_i)L'_{n,i}(x_i),\n",
        "$$\n",
        "\n",
        "$$\n",
        "= -2 L'_{n,i}(x_i) + 2 L'_{n,i}(x_i) = 0.\n",
        "$$\n",
        "\n",
        "Por lo tanto, $H'_{n,j}(x_i) = 0$ para todas las $i$ y $j$.\n",
        "\n",
        "Finalmente,\n",
        "\n",
        "$$\n",
        "\\hat{H}'_{n,j}(x_i) = L^2_{n,j}(x_i) + (x_i - x_j) 2 L_{n,j}(x_i) L'_{n,j}(x_i) = L_{n,j}(x_i) \\left[ L_{n,j}(x_i) + 2(x_i - x_j) L'_{n,j}(x_i) \\right],\n",
        "$$\n",
        "\n",
        "por lo que $\\hat{H}'_{n,j}(x_i) = 0$ si $i \\ne j$ y $\\hat{H}'_{n,i}(x_i) = 1$. Al combinar estos hechos, tenemos\n",
        "\n",
        "$$\n",
        "H'_{2n+1}(x_i) = \\sum_{j=0}^{n} f(x_j) \\cdot 0 + \\sum_{\\substack{j=0 \\\\ j \\ne i}}^{n} f'(x_j) \\cdot 0 + f'(x_i) \\cdot 1 = f'(x_i).\n",
        "$$\n",
        "\n",
        "Por lo tanto, $H_{2n+1}$ concuerda con $f$ y $H'_{2n+1}$ con $f'$ en $x_0, \\dots, x_n$.\n",
        "\n",
        "##Polinomio de Hermite usando diferencias divididas\n",
        "\n",
        "Existe un método alterno para generar aproximaciones de Hermite que tiene sus bases en la fórmula de diferencias divididas de interpolación de Newton (3.10) en $x_0, x_1, \\dots, x_n$; esto es,\n",
        "$$\n",
        "P_n(x) = f[x_0] + \\sum_{k=1}^{n} f[x_0, x_1, \\dots, x_k](x - x_0)(x - x_1)\\cdots(x - x_{k-1}).\n",
        "$$\n",
        "\n",
        "El método alterno utiliza la conexión entre la enésima diferencia dividida y la enésima derivada de $f$, como se describe en el teorema.\n",
        "\n",
        "Suponga que los diferentes números $x_0, x_1, \\dots, x_n$ están dados junto con los valores de $f$ y $f'$ en estos números. Defina una nueva sucesión $z_0, z_1, \\dots, z_{2n+1}$ mediante\n",
        "$$\n",
        "z_{2i} = z_{2i+1} = x_i, \\quad \\text{para cada } i = 0, 1, \\dots, n,\n",
        "$$\n",
        "y construya la tabla de diferencias divididas en la forma de la tabla que usa $z_0, z_1, \\dots, z_{2n+1}$.\n",
        "\n",
        "Puesto que $z_{2i} = z_{2i+1} = x_i$ para cada $i$, no podemos definir $f[z_{2i}, z_{2i+1}]$ con la fórmula de las diferencias divididas. Sin embargo, si suponemos, con base en el teorema 3.6, que la sustitución razonable en estas situaciones es $f[z_{2i}, z_{2i+1}] = f'(z_{2i}) = f'(x_i)$, podemos usar las entradas\n",
        "$$\n",
        "f'(x_0), f'(x_1), \\dots, f'(x_n)\n",
        "$$\n",
        "en lugar de las primeras diferencias divididas no definidas\n",
        "$$\n",
        "f[z_0, z_1], f[z_2, z_3], \\dots, f[z_{2n}, z_{2n+1}].\n",
        "$$\n",
        "\n",
        "Las diferencias divididas restantes se producen de la manera común y las diferencias divididas de más de dos entradas se usan en la fórmula de diferencias divididas de interpolación de Newton. La tabla 3.16 muestra las entradas que se utilizan para las primeras tres columnas de diferencias divididas al determinar el polinomio de Hermite $H_{2n+1}(x)$ para $x_0, x_1, \\dots, x_n$. Las entradas restantes se generan de la manera que se muestra en la tabla. El polinomio de Hermite está dado por\n",
        "$$\n",
        "H_{2n+1}(x) = f[z_0] + \\sum_{k=1}^{2n+1} f[z_0, \\dots, z_k](x - z_0)(x - z_1)\\cdots(x - z_{k-1}).\n",
        "$$\n",
        "\n",
        "\\\n",
        "\\begin{array}{c|c|c|c}\n",
        "z & f(z) & \\text{Primeras diferencias} & \\text{Segundas diferencias} \\\\\n",
        " &       & \\text{divididas} & \\text{divididas} \\\\\n",
        "\\hline\n",
        "z_0 = x_0 & f[z_0] = f(x_0) & f[z_0,z_1] = f'(x_0) & \\\\\n",
        "z_1 = x_0 & f[z_1] = f(x_0) & f[z_1,z_2] = \\dfrac{f[z_2]-f[z_1]}{z_2 - z_1} & f[z_0,z_1,z_2] = \\dfrac{f[z_1,z_2]-f[z_0,z_1]}{z_2 - z_0} \\\\\n",
        "z_2 = x_1 & f[z_2] = f(x_1) & f[z_2,z_3] = f'(x_1) & f[z_1,z_2,z_3] = \\dfrac{f[z_2,z_3]-f[z_1,z_2]}{z_3 - z_1} \\\\\n",
        "z_3 = x_1 & f[z_3] = f(x_1) & f[z_3,z_4] = \\dfrac{f[z_4]-f[z_3]}{z_4 - z_3} & f[z_2,z_3,z_4] = \\dfrac{f[z_3,z_4]-f[z_2,z_3]}{z_4 - z_2} \\\\\n",
        "z_4 = x_2 & f[z_4] = f(x_2) & f[z_4,z_5] = f'(x_2) & f[z_3,z_4,z_5] = \\dfrac{f[z_4,z_5]-f[z_3,z_4]}{z_5 - z_3} \\\\\n",
        "z_5 = x_2 & f[z_5] = f(x_2) & & \\\\\n",
        "\\end{array}"
      ],
      "metadata": {
        "id": "51aDx7T41xk2"
      }
    },
    {
      "cell_type": "code",
      "execution_count": 19,
      "metadata": {
        "id": "p8MjLK3z0cTV"
      },
      "outputs": [],
      "source": [
        "import sympy as sp\n",
        "import numpy as np\n",
        "\n",
        "def interpolacion_de_hermite(x, f, df):\n",
        "    n = len(x)\n",
        "    z = [0] * (2 * n)\n",
        "    Q = [[0 for _ in range(2 * n)] for _ in range(2 * n)]\n",
        "\n",
        "    for i in range(n):\n",
        "        z[2 * i] = z[2 * i + 1] = x[i]\n",
        "        Q[2 * i][0] = Q[2 * i + 1][0] = f[i]\n",
        "        Q[2 * i + 1][1] = df[i]\n",
        "        if i != 0:\n",
        "            Q[2 * i][1] = (Q[2 * i][0] - Q[2 * i - 1][0]) / (z[2 * i] - z[2 * i - 1])\n",
        "\n",
        "    for i in range(2, 2 * n):\n",
        "        for j in range(2, i + 1):\n",
        "            Q[i][j] = (Q[i][j - 1] - Q[i - 1][j - 1]) / (z[i] - z[i - j])\n",
        "\n",
        "    # Construcción del polinomio de Hermite con sympy\n",
        "    x_sym = sp.Symbol('x')\n",
        "    polinomio = Q[0][0]\n",
        "    product_term = 1\n",
        "    for i in range(1, 2 * n):\n",
        "        product_term *= (x_sym - z[i - 1])\n",
        "        polinomio += Q[i][i] * product_term\n",
        "\n",
        "    # Mostrar el polinomio simplificado\n",
        "    polinomio = sp.simplify(polinomio)\n",
        "    print(\"Polinomio de Hermite:\")\n",
        "    sp.pprint(polinomio)\n",
        "\n",
        "    return polinomio"
      ]
    },
    {
      "cell_type": "code",
      "source": [
        "x = [1.3, 1.6, 1.9]\n",
        "f = [0.6200860, 0.4554022, 0.2818186]\n",
        "df = [-0.5220232, -0.5698959, -0.5811571]\n",
        "\n",
        "interpolacion_de_hermite(x, f, df)"
      ],
      "metadata": {
        "colab": {
          "base_uri": "https://localhost:8080/",
          "height": 169
        },
        "id": "tKIjWZeJ4MBu",
        "outputId": "d4aeffeb-cfa7-4a54-a67d-d8987628c8ec"
      },
      "execution_count": 20,
      "outputs": [
        {
          "output_type": "stream",
          "name": "stdout",
          "text": [
            "Polinomio de Hermite:\n",
            "                       5                       4                       3       ↪\n",
            "- 0.00277469135798944⋅x  + 0.0240317901231809⋅x  - 0.0145560802460553⋅x  - 0.2 ↪\n",
            "\n",
            "↪                 2                                           \n",
            "↪ 35216169754413⋅x  - 0.00822922345577154⋅x + 1.00194406469105\n"
          ]
        },
        {
          "output_type": "execute_result",
          "data": {
            "text/plain": [
              "-0.00277469135798944*x**5 + 0.0240317901231809*x**4 - 0.0145560802460553*x**3 - 0.235216169754413*x**2 - 0.00822922345577154*x + 1.00194406469105"
            ],
            "text/latex": "$\\displaystyle - 0.00277469135798944 x^{5} + 0.0240317901231809 x^{4} - 0.0145560802460553 x^{3} - 0.235216169754413 x^{2} - 0.00822922345577154 x + 1.00194406469105$"
          },
          "metadata": {},
          "execution_count": 20
        }
      ]
    }
  ]
}