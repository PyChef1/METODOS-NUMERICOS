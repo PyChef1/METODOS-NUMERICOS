{
  "nbformat": 4,
  "nbformat_minor": 0,
  "metadata": {
    "colab": {
      "provenance": [],
      "authorship_tag": "ABX9TyPPGtE7AfbXBLcfG6ki7CDR",
      "include_colab_link": true
    },
    "kernelspec": {
      "name": "python3",
      "display_name": "Python 3"
    },
    "language_info": {
      "name": "python"
    }
  },
  "cells": [
    {
      "cell_type": "markdown",
      "metadata": {
        "id": "view-in-github",
        "colab_type": "text"
      },
      "source": [
        "<a href=\"https://colab.research.google.com/github/PyChef1/METODOS-NUMERICOS/blob/main/SistemasNumericos.ipynb\" target=\"_parent\"><img src=\"https://colab.research.google.com/assets/colab-badge.svg\" alt=\"Open In Colab\"/></a>"
      ]
    },
    {
      "cell_type": "markdown",
      "source": [
        "#Sistemas Numericos\n",
        "Base 10: {0,1,2,3,4,5,6,7,8,9}\n",
        "\n"
      ],
      "metadata": {
        "id": "vXJFXCyKLw9x"
      }
    },
    {
      "cell_type": "markdown",
      "source": [
        "Ejemplo:\n",
        "\n",
        "*   525 = $5\\times10^2+2\\times10^1+5\\times10^0$\n",
        "\n",
        "\n"
      ],
      "metadata": {
        "id": "A1t193xhNVSw"
      }
    },
    {
      "cell_type": "markdown",
      "source": [
        "Ahora la cantidad de numeros de tres cifras en sistema decimal: sera $$10^3-1$$\n"
      ],
      "metadata": {
        "id": "82dM1RVxOQdP"
      }
    },
    {
      "cell_type": "markdown",
      "source": [
        "En computacion, interesan los sistemas\n",
        "\n",
        "*   Binario (2)\n",
        "*   Octal (8)\n",
        "*   Hexadecimal (16)\n",
        "\n",
        "\n",
        "\n"
      ],
      "metadata": {
        "id": "cE6ibee0Ok6X"
      }
    },
    {
      "cell_type": "markdown",
      "source": [
        "Ejercicio: Escribir una funcion que convierta un numero entero decimal a Binario."
      ],
      "metadata": {
        "id": "fz_XCQORO-L_"
      }
    },
    {
      "cell_type": "code",
      "source": [
        "#Solucion 1:\n",
        "numero = 26\n",
        "print(numero,\"Binario: \",bin(numero))\n",
        "print(numero,\"Octal: \",oct(numero))\n",
        "print(numero, \"Hexadecimal: \",hex(numero))"
      ],
      "metadata": {
        "colab": {
          "base_uri": "https://localhost:8080/"
        },
        "id": "usOkkS05PGPv",
        "outputId": "72b0768e-a457-4d5b-8fff-1604819bb12e"
      },
      "execution_count": 8,
      "outputs": [
        {
          "output_type": "stream",
          "name": "stdout",
          "text": [
            "26 Binario:  0b11010\n",
            "26 Octal:  0o32\n",
            "26 Hexadecimal:  0x1a\n"
          ]
        }
      ]
    },
    {
      "cell_type": "code",
      "source": [
        "def decimal_a_binario(numero):\n",
        "  binario = \"\"\n",
        "  while numero > 0:\n",
        "    binario = str(numero%2) + binario\n",
        "    numero = numero//2\n",
        "  return binario\n",
        "\n",
        "entrada = int(input(\"Ingrese un numero: \"))\n",
        "print(entrada, \"en binario sera: \",decimal_a_binario(entrada))"
      ],
      "metadata": {
        "colab": {
          "base_uri": "https://localhost:8080/"
        },
        "id": "xNDFpNRNQhSw",
        "outputId": "2ace7dd6-6d5d-43fa-bb6b-440a2a0e6d8a"
      },
      "execution_count": 14,
      "outputs": [
        {
          "output_type": "stream",
          "name": "stdout",
          "text": [
            "Ingrese un numero: 26\n",
            "26 en binario sera:  11010\n"
          ]
        }
      ]
    }
  ]
}