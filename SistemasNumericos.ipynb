{
  "nbformat": 4,
  "nbformat_minor": 0,
  "metadata": {
    "colab": {
      "provenance": [],
      "authorship_tag": "ABX9TyPC68Jdc7vh/w4ewFDZ62Wv",
      "include_colab_link": true
    },
    "kernelspec": {
      "name": "python3",
      "display_name": "Python 3"
    },
    "language_info": {
      "name": "python"
    }
  },
  "cells": [
    {
      "cell_type": "markdown",
      "metadata": {
        "id": "view-in-github",
        "colab_type": "text"
      },
      "source": [
        "<a href=\"https://colab.research.google.com/github/PyChef1/METODOS-NUMERICOS/blob/main/SistemasNumericos.ipynb\" target=\"_parent\"><img src=\"https://colab.research.google.com/assets/colab-badge.svg\" alt=\"Open In Colab\"/></a>"
      ]
    },
    {
      "cell_type": "markdown",
      "source": [
        "#Sistemas Numericos\n",
        "Base 10: {0,1,2,3,4,5,6,7,8,9}\n",
        "\n"
      ],
      "metadata": {
        "id": "vXJFXCyKLw9x"
      }
    },
    {
      "cell_type": "markdown",
      "source": [
        "Ejemplo:\n",
        "\n",
        "*   525 = $5\\times10^2+2\\times10^1+5\\times10^0$\n",
        "\n",
        "\n"
      ],
      "metadata": {
        "id": "A1t193xhNVSw"
      }
    },
    {
      "cell_type": "markdown",
      "source": [
        "Ahora la cantidad de numeros de tres cifras en sistema decimal: sera $$10^3-1$$\n"
      ],
      "metadata": {
        "id": "82dM1RVxOQdP"
      }
    },
    {
      "cell_type": "markdown",
      "source": [
        "En computacion, interesan los sistemas\n",
        "\n",
        "*   Binario (2)\n",
        "*   Octal (8)\n",
        "*   Hexadecimal (16)\n",
        "\n",
        "\n",
        "\n"
      ],
      "metadata": {
        "id": "cE6ibee0Ok6X"
      }
    },
    {
      "cell_type": "markdown",
      "source": [
        "Ejercicio: Escribir una funcion que convierta un numero entero decimal a Binario."
      ],
      "metadata": {
        "id": "fz_XCQORO-L_"
      }
    },
    {
      "cell_type": "code",
      "source": [
        "#Solucion 1:\n",
        "numero = 26\n",
        "print(numero,\"Binario: \",bin(numero))\n",
        "print(numero,\"Octal: \",oct(numero))\n",
        "print(numero, \"Hexadecimal: \",hex(numero))"
      ],
      "metadata": {
        "colab": {
          "base_uri": "https://localhost:8080/"
        },
        "id": "usOkkS05PGPv",
        "outputId": "72b0768e-a457-4d5b-8fff-1604819bb12e"
      },
      "execution_count": 8,
      "outputs": [
        {
          "output_type": "stream",
          "name": "stdout",
          "text": [
            "26 Binario:  0b11010\n",
            "26 Octal:  0o32\n",
            "26 Hexadecimal:  0x1a\n"
          ]
        }
      ]
    },
    {
      "cell_type": "code",
      "source": [
        "def decimal_a_binario(numero):\n",
        "  # Definimos la cadena donde guardaremos el numero en binario\n",
        "  binario = \"\"\n",
        "  #Inciaremos un bucle\n",
        "  while numero > 0:\n",
        "    #Tomamos el nuemro y mediante \"%\" hacemos la division entre 2 y nos quedamos con el residuo, para despues agregarla a la cadena binario\n",
        "    binario = str(numero%2) + binario\n",
        "    # Actualizamos el nmero dado dividiendolo entre 2 y reinciamos el bucle.\n",
        "    numero = numero//2\n",
        "  return binario\n",
        "\n",
        "entrada = int(input(\"Ingrese un numero: \"))\n",
        "print(entrada, \"en binario sera: \",decimal_a_binario(entrada))\n",
        "print(\"Comprobacion: \", bin(entrada))"
      ],
      "metadata": {
        "colab": {
          "base_uri": "https://localhost:8080/"
        },
        "id": "xNDFpNRNQhSw",
        "outputId": "9066ba34-cc27-4f7a-a718-5026b4c6151d"
      },
      "execution_count": 19,
      "outputs": [
        {
          "output_type": "stream",
          "name": "stdout",
          "text": [
            "Ingrese un numero: 1\n",
            "1 en binario sera:  1\n",
            ":  0b100111010\n"
          ]
        }
      ]
    },
    {
      "cell_type": "markdown",
      "source": [
        "Notese que usamos una cadena pues si ocuparamos otro arreglo empezaria a agregar los residuos en reversa"
      ],
      "metadata": {
        "id": "iR_PwyD0YHuH"
      }
    },
    {
      "cell_type": "markdown",
      "source": [
        "Ejercicio 2: Lo mismo para octal y hexadecimal\n"
      ],
      "metadata": {
        "id": "wG4NVD_QU-d_"
      }
    },
    {
      "cell_type": "code",
      "source": [
        "def decimal_a_octal(numero):\n",
        "  # Definimos la cadena donde guardaremos el numero en octal\n",
        "  octal = \"\"\n",
        "  #Inciaremos un bucle\n",
        "  while numero > 0:\n",
        "    #Tomamos el nuemro y mediante \"%\" hacemos la division entre 8 y nos quedamos con el residuo, para despues agregarla a la cadena octal\n",
        "    octal = str(numero%8) + octal\n",
        "    # Actualizamos el nmero dado dividiendolo entre 8 y reinciamos el bucle.\n",
        "    numero = numero//8\n",
        "  return octal\n",
        "\n",
        "entrada = int(input(\"Ingrese un numero: \"))\n",
        "print(entrada, \"en octal sera: \",decimal_a_octal(entrada))\n",
        "print(\"Comprobacion: \", oct(entrada))"
      ],
      "metadata": {
        "colab": {
          "base_uri": "https://localhost:8080/"
        },
        "id": "oDKcjUPAVEdm",
        "outputId": "f1a6e814-1979-45e0-b9e0-05fefc895cf8"
      },
      "execution_count": 23,
      "outputs": [
        {
          "output_type": "stream",
          "name": "stdout",
          "text": [
            "Ingrese un numero: 12\n",
            "12 en octal sera:  14\n",
            "Comprobacion:  0o14\n"
          ]
        }
      ]
    },
    {
      "cell_type": "code",
      "source": [
        "def decimal_a_hexa(numero):\n",
        "  # Definimos la cadena donde guardaremos el numero en hexadecimal\n",
        "  hexadecimal = \"\"\n",
        "  #Inciaremos un bucle\n",
        "  while numero > 0:\n",
        "    #Tomamos el nuemro y mediante \"%\" hacemos la division entre 16 y nos quedamos con el residuo, para despues agregarla a la cadena binario\n",
        "    hexadecimal = str(numero%16) + hexadecimal\n",
        "    # Actualizamos el nmero dado dividiendolo entre 16 y reinciamos el bucle.\n",
        "    numero = numero//16\n",
        "  return hexadecimal\n",
        "\n",
        "entrada = int(input(\"Ingrese un numero: \"))\n",
        "print(entrada, \"en hexadecimal sera: \",decimal_a_hexa(entrada))\n",
        "print(\"Comprobacion: \", hex(entrada))"
      ],
      "metadata": {
        "colab": {
          "base_uri": "https://localhost:8080/"
        },
        "id": "Yg9EyAi7VjA_",
        "outputId": "725bbbae-624f-4e0a-a7cc-fd7535c22859"
      },
      "execution_count": 28,
      "outputs": [
        {
          "output_type": "stream",
          "name": "stdout",
          "text": [
            "Ingrese un numero: 36\n",
            "36 en hexadecimal sera:  24\n",
            "Comprobacion:  0x24\n"
          ]
        }
      ]
    },
    {
      "cell_type": "markdown",
      "source": [
        "¿Como convertir un 0.125 a binario? $$0.125=1\\times10^{-1}+2\\times10^{-2}+5\\times10^{-3}$$"
      ],
      "metadata": {
        "id": "CHaBATCGan9W"
      }
    },
    {
      "cell_type": "code",
      "source": [
        "def decimal_a_binario_flotante(numero):\n",
        "  #iniciamos la cadena a guardar nuestro numero\n",
        "  binario = \"\"\n",
        "  #Iniciamos un bucle\n",
        "  while numero >0:\n",
        "    #Aplicaremos el algoritmo multiplicando por 2 al numero\n",
        "    numero = numero * 2\n",
        "    #Verificamos si el resultado de multiplicar por 2 al numero es 1 o mayor que 1\n",
        "    #entonces agrega un 1 a la cadena y el valor del numero sera restado por 1 para representar la parte en binario\n",
        "    if numero >=1:\n",
        "      binario = binario + \"1\"\n",
        "      numero = numero -1\n",
        "  #De itra firma se agrega 0 a binario\n",
        "    else:\n",
        "      binario = binario + \"0\"\n",
        "  return binario\n",
        "\n",
        "entrada = float(input(\"Ingrese un numero: \"))\n",
        "print(entrada, \"en binario sera: \",decimal_a_binario_flotante(entrada))"
      ],
      "metadata": {
        "colab": {
          "base_uri": "https://localhost:8080/"
        },
        "id": "xbssu477cgb2",
        "outputId": "6c666153-9fbb-4178-b115-e2cbb7926b35"
      },
      "execution_count": 29,
      "outputs": [
        {
          "output_type": "stream",
          "name": "stdout",
          "text": [
            "Ingrese un numero: 0.125\n",
            "0.125 en binario sera:  001\n"
          ]
        }
      ]
    },
    {
      "cell_type": "code",
      "source": [
        "def decimal_a_octal_flotante(numero):\n",
        "  #iniciamos la cadena a guardar nuestro numero\n",
        "  octal = \"\"\n",
        "  #Iniciamos un bucle\n",
        "  while numero >0:\n",
        "    #Aplicaremos el algoritmo multiplicando por 2 al numero\n",
        "    numero = numero * 8\n",
        "    #Verificamos si el resultado de multiplicar por 2 al numero es 1 o mayor que 1\n",
        "    #entonces agrega un 1 a la cadena y el valor del numero sera restado por 1 para representar la parte en binario\n",
        "    if numero >=1:\n",
        "      octal = octal + \"1\"\n",
        "      numero = numero -1\n",
        "  #De itra firma se agrega 0 a binario\n",
        "    else:\n",
        "      octal = octal + \"0\"\n",
        "  return octal\n",
        "\n",
        "entrada = float(input(\"Ingrese un numero: \"))\n",
        "print(entrada, \"en octal sera: \",decimal_a_binario_flotante(entrada))"
      ],
      "metadata": {
        "id": "_SyxyalmW1he"
      },
      "execution_count": null,
      "outputs": []
    },
    {
      "cell_type": "code",
      "source": [
        "def decimal_a_hexadecimal_flotante(numero):\n",
        "  #iniciamos la cadena a guardar nuestro numero\n",
        "  hexa = \"\"\n",
        "  #Iniciamos un bucle\n",
        "  while numero >0:\n",
        "    #Aplicaremos el algoritmo multiplicando por 2 al numero\n",
        "    numero = numero * 16\n",
        "    #Verificamos si el resultado de multiplicar por 2 al numero es 1 o mayor que 1\n",
        "    #entonces agrega un 1 a la cadena y el valor del numero sera restado por 1 para representar la parte en binario\n",
        "    if numero >=1:\n",
        "      hexa = hexa + \"1\"\n",
        "      numero = numero -1\n",
        "  #De itra firma se agrega 0 a binario\n",
        "    else:\n",
        "      hexa = hexa + \"0\"\n",
        "  return hexa\n",
        "\n",
        "entrada = float(input(\"Ingrese un numero: \"))\n",
        "print(entrada, \"en hexadecimal sera: \",decimal_a_binario_flotante(entrada))"
      ],
      "metadata": {
        "colab": {
          "base_uri": "https://localhost:8080/",
          "height": 315
        },
        "id": "ssQzJXoCe7w9",
        "outputId": "7593d035-9cf4-4e7e-b598-5f955c1bbd3b"
      },
      "execution_count": 30,
      "outputs": [
        {
          "name": "stdout",
          "output_type": "stream",
          "text": [
            "Ingrese un numero: 2\n"
          ]
        },
        {
          "output_type": "error",
          "ename": "KeyboardInterrupt",
          "evalue": "",
          "traceback": [
            "\u001b[0;31m---------------------------------------------------------------------------\u001b[0m",
            "\u001b[0;31mKeyboardInterrupt\u001b[0m                         Traceback (most recent call last)",
            "\u001b[0;32m<ipython-input-30-3fea28afced0>\u001b[0m in \u001b[0;36m<cell line: 0>\u001b[0;34m()\u001b[0m\n\u001b[1;32m     17\u001b[0m \u001b[0;34m\u001b[0m\u001b[0m\n\u001b[1;32m     18\u001b[0m \u001b[0mentrada\u001b[0m \u001b[0;34m=\u001b[0m \u001b[0mfloat\u001b[0m\u001b[0;34m(\u001b[0m\u001b[0minput\u001b[0m\u001b[0;34m(\u001b[0m\u001b[0;34m\"Ingrese un numero: \"\u001b[0m\u001b[0;34m)\u001b[0m\u001b[0;34m)\u001b[0m\u001b[0;34m\u001b[0m\u001b[0;34m\u001b[0m\u001b[0m\n\u001b[0;32m---> 19\u001b[0;31m \u001b[0mprint\u001b[0m\u001b[0;34m(\u001b[0m\u001b[0mentrada\u001b[0m\u001b[0;34m,\u001b[0m \u001b[0;34m\"en hexadeimal sera: \"\u001b[0m\u001b[0;34m,\u001b[0m\u001b[0mdecimal_a_binario_flotante\u001b[0m\u001b[0;34m(\u001b[0m\u001b[0mentrada\u001b[0m\u001b[0;34m)\u001b[0m\u001b[0;34m)\u001b[0m\u001b[0;34m\u001b[0m\u001b[0;34m\u001b[0m\u001b[0m\n\u001b[0m",
            "\u001b[0;32m<ipython-input-29-b626e4cdcc25>\u001b[0m in \u001b[0;36mdecimal_a_binario_flotante\u001b[0;34m(numero)\u001b[0m\n\u001b[1;32m      1\u001b[0m \u001b[0;32mdef\u001b[0m \u001b[0mdecimal_a_binario_flotante\u001b[0m\u001b[0;34m(\u001b[0m\u001b[0mnumero\u001b[0m\u001b[0;34m)\u001b[0m\u001b[0;34m:\u001b[0m\u001b[0;34m\u001b[0m\u001b[0;34m\u001b[0m\u001b[0m\n\u001b[1;32m      2\u001b[0m   \u001b[0mbinario\u001b[0m \u001b[0;34m=\u001b[0m \u001b[0;34m\"\"\u001b[0m\u001b[0;34m\u001b[0m\u001b[0;34m\u001b[0m\u001b[0m\n\u001b[0;32m----> 3\u001b[0;31m   \u001b[0;32mwhile\u001b[0m \u001b[0mnumero\u001b[0m \u001b[0;34m>\u001b[0m\u001b[0;36m0\u001b[0m\u001b[0;34m:\u001b[0m\u001b[0;34m\u001b[0m\u001b[0;34m\u001b[0m\u001b[0m\n\u001b[0m\u001b[1;32m      4\u001b[0m     \u001b[0mnumero\u001b[0m \u001b[0;34m=\u001b[0m \u001b[0mnumero\u001b[0m \u001b[0;34m*\u001b[0m \u001b[0;36m2\u001b[0m\u001b[0;34m\u001b[0m\u001b[0;34m\u001b[0m\u001b[0m\n\u001b[1;32m      5\u001b[0m     \u001b[0;32mif\u001b[0m \u001b[0mnumero\u001b[0m \u001b[0;34m>=\u001b[0m\u001b[0;36m1\u001b[0m\u001b[0;34m:\u001b[0m\u001b[0;34m\u001b[0m\u001b[0;34m\u001b[0m\u001b[0m\n",
            "\u001b[0;31mKeyboardInterrupt\u001b[0m: "
          ]
        }
      ]
    }
  ]
}